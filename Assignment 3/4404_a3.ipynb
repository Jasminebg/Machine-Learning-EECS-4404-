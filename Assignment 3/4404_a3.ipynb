{
  "nbformat": 4,
  "nbformat_minor": 0,
  "metadata": {
    "colab": {
      "name": "4404 a3.ipynb",
      "provenance": [],
      "collapsed_sections": [
        "mp4qv0SaueHo"
      ],
      "toc_visible": true
    },
    "kernelspec": {
      "display_name": "Python 3",
      "name": "python3"
    }
  },
  "cells": [
    {
      "cell_type": "markdown",
      "metadata": {
        "id": "rX75nZ43ly3x"
      },
      "source": [
        "# Imports/Set up for Q1"
      ]
    },
    {
      "cell_type": "code",
      "metadata": {
        "colab": {
          "base_uri": "https://localhost:8080/"
        },
        "id": "V3th2njbF4h4",
        "outputId": "144fcc76-c550-4f6e-b99f-38163502d4c2"
      },
      "source": [
        "!pip install idx2numpy\n",
        "!pip install python_mnist\n",
        "from mnist import MNIST\n",
        "import numpy as np\n",
        "from sklearn.manifold import TSNE\n",
        "from sklearn.preprocessing import StandardScaler\n",
        "import pandas as pd\n",
        "import seaborn as sn\n",
        "import matplotlib.pyplot as plt\n",
        "from scipy.linalg import eigh\n",
        "from google.colab import files\n",
        "from google.colab import drive\n",
        "from tensorflow import keras\n",
        "from tensorflow.keras import layers as layr\n",
        "from keras.models import Sequential\n",
        "from keras.layers import Dense, Conv2D, Flatten\n",
        "drive.mount('/content/drive')"
      ],
      "execution_count": 145,
      "outputs": [
        {
          "output_type": "stream",
          "text": [
            "Requirement already satisfied: idx2numpy in /usr/local/lib/python3.7/dist-packages (1.2.3)\n",
            "Requirement already satisfied: six in /usr/local/lib/python3.7/dist-packages (from idx2numpy) (1.15.0)\n",
            "Requirement already satisfied: numpy in /usr/local/lib/python3.7/dist-packages (from idx2numpy) (1.19.5)\n",
            "Requirement already satisfied: python_mnist in /usr/local/lib/python3.7/dist-packages (0.7)\n",
            "Drive already mounted at /content/drive; to attempt to forcibly remount, call drive.mount(\"/content/drive\", force_remount=True).\n"
          ],
          "name": "stdout"
        }
      ]
    },
    {
      "cell_type": "code",
      "metadata": {
        "colab": {
          "base_uri": "https://localhost:8080/"
        },
        "id": "EJ8Ym7kdycFI",
        "outputId": "b11269c7-9cc6-4578-f7ef-078c51bdfb07"
      },
      "source": [
        "mnist_loader = MNIST('/content/drive/My Drive/')\n",
        "train_data, train_label = mnist_loader.load_training()\n",
        "test_data, test_label = mnist_loader.load_testing()\n",
        "train_data = np.array(train_data)\n",
        "train_label = np.array(train_label)\n",
        "test_data = np.array(test_data)\n",
        "test_label = np.array(test_label)\n",
        "print(train_data.shape)\n",
        "print(train_label.shape)\n",
        "print(test_data.shape)\n",
        "print(test_label.shape)"
      ],
      "execution_count": 146,
      "outputs": [
        {
          "output_type": "stream",
          "text": [
            "(60000, 784)\n",
            "(60000,)\n",
            "(10000, 784)\n",
            "(10000,)\n"
          ],
          "name": "stdout"
        }
      ]
    },
    {
      "cell_type": "code",
      "metadata": {
        "colab": {
          "base_uri": "https://localhost:8080/"
        },
        "id": "3EebBDJW_sHc",
        "outputId": "7bb0267c-16c8-49c1-997f-813eaefede05"
      },
      "source": [
        "#one hot encoding\n",
        "label_encoded = []\n",
        "for out in train_label:\n",
        "  ar = np.zeros(10)\n",
        "  ar[out] = 1\n",
        "  label_encoded.append(ar)\n",
        "label_encoded = np.asarray(label_encoded)\n",
        "for n in range(0,label_encoded.shape[0]):\n",
        "  m = train_label[n]\n",
        "  if label_encoded[n][m] != 1:\n",
        "    print(False)\n",
        "print(label_encoded)"
      ],
      "execution_count": 147,
      "outputs": [
        {
          "output_type": "stream",
          "text": [
            "[[0. 0. 0. ... 0. 0. 0.]\n",
            " [1. 0. 0. ... 0. 0. 0.]\n",
            " [0. 0. 0. ... 0. 0. 0.]\n",
            " ...\n",
            " [0. 0. 0. ... 0. 0. 0.]\n",
            " [0. 0. 0. ... 0. 0. 0.]\n",
            " [0. 0. 0. ... 0. 1. 0.]]\n"
          ],
          "name": "stdout"
        }
      ]
    },
    {
      "cell_type": "code",
      "metadata": {
        "colab": {
          "base_uri": "https://localhost:8080/"
        },
        "id": "pW_y-8Qj40J8",
        "outputId": "78babb8b-dcfe-4975-83fe-0da12e2731ba"
      },
      "source": [
        "t_d = train_data.astype(\"float32\") / 255\n",
        "x_train = t_d[:int(train_data.shape[0]*0.8)]\n",
        "x_test = t_d[int(train_data.shape[0]*0.8):]\n",
        "stdata = (x_train - np.mean(x_train, axis=0))/x_train.std()\n",
        "#print(stdata.mean())\n",
        "#x_train = stdata\n",
        "y_train = label_encoded[:int(label_encoded.shape[0]*0.8)]\n",
        "y_test = label_encoded[int(label_encoded.shape[0]*0.8):]\n",
        "print(x_train.shape)\n",
        "print(x_test.shape)\n",
        "layers=3\n",
        "#print(x_train[1])"
      ],
      "execution_count": 148,
      "outputs": [
        {
          "output_type": "stream",
          "text": [
            "(48000, 784)\n",
            "(12000, 784)\n"
          ],
          "name": "stdout"
        }
      ]
    },
    {
      "cell_type": "markdown",
      "metadata": {
        "id": "SD55Zaf3uRbo"
      },
      "source": [
        "# Question 1"
      ]
    },
    {
      "cell_type": "code",
      "metadata": {
        "id": "HwjsbHmh0XEW"
      },
      "source": [
        "#w for linear regression\n",
        "weights =[ np.random.normal(0,1,(x_test.shape[1],256)),np.random.normal(0,1,(256, 128)),np.random.normal(0,1,(128, 10)) ]\n",
        "bias = [ np.random.normal(0,1,(256)),np.random.normal(0,1,(128)),np.random.normal(0,1,(10))  ]\n",
        "layers=3\n",
        "epoch = 1\n",
        "rate = 0.001\n",
        "ls=[1e10,1e9]"
      ],
      "execution_count": 149,
      "outputs": []
    },
    {
      "cell_type": "code",
      "metadata": {
        "colab": {
          "base_uri": "https://localhost:8080/"
        },
        "id": "_AkngkRSuXPV",
        "outputId": "0f3a6b86-3c64-4240-9bad-864386233c16"
      },
      "source": [
        "while np.abs(ls[-1]-ls[-2]) > 1e-4:\n",
        "  #randomizing batches\n",
        "  randord = np.random.choice(x_train.shape[0], x_train.shape[0], replace=False)\n",
        "  randx = x_train[randord]\n",
        "  randy = y_train[randord]\n",
        "  #batch size of 128 and 375 batches\n",
        "  #stored as [[x1,y1],[x2,y2]...]\n",
        "  n=0\n",
        "  for xbatch,ybatch in [(randx[i:i+128], randy[i:i+128]) for i in range(0,x_train.shape[0],128)]:\n",
        "    crossent = []\n",
        "    #print(len(gradw))\n",
        "    gradw = [[],[],[]]\n",
        "    gradb = [[],[],[]]\n",
        "    for x,y in [(xbatch[i],ybatch[i]) for i in range(0, xbatch.shape[0])]:\n",
        "      #forward pass x->y 1->L-1:\n",
        "      z= [np.random.rand(x_test.shape[1])]\n",
        "      z[0] = x\n",
        "      a= [np.zeros(x_test.shape[0])]\n",
        "      for l in range(1,layers):\n",
        "        ##Layer 1->L-1 forward pass\n",
        "        a.append(weights[l-1].T.dot(z[l-1]) + bias[l-1] )\n",
        "        relz = a[l]\n",
        "        relz[relz<0] = 0\n",
        "        z.append(relz)\n",
        "      #Layer L forward pass\n",
        "      #output layer\n",
        "      a.append((weights[l].T.dot(z[l]))+bias[l])\n",
        "      #z.append(np.exp(( a[-1] - max(a[-1])))/np.sum( np.exp((a[-1] - max( a[-1] ) )) ))\n",
        "      z.append(np.exp(( a[-1]- max(a[-1]) ))/np.sum( np.exp((a[-1]- max(a[-1]) )) ))\n",
        "      yh= z[-1]\n",
        "      crossent.append(np.log((yh[y>0]+2)))\n",
        "      if(crossent[-1][0] == 0):\n",
        "        print(yh,y)\n",
        "      #crossent.append((yh-y)**2)\n",
        "      #backward\n",
        "      ## error L\n",
        "      e= [np.zeros(256),np.zeros( 128),np.zeros( 10) ]\n",
        "      e[-1] = yh-y\n",
        "      ##Error L-1 -> 1, uses W L->2\n",
        "      for l in reversed(range(layers-1)):\n",
        "        we = (weights[l+1].dot(e[l+1]) ) \n",
        "        hz = np.zeros(z[l+1].shape[0]) # 0 when z<0, else 1\n",
        "        e[l] = np.multiply(we, hz)\n",
        "      ##gradients L->1\n",
        "      for l in reversed(range(layers)):\n",
        "        gradw[l].append( np.reshape(e[l],(e[l].shape[0],1)) .dot( np.reshape(z[l],(z[l].shape[0],1)).T))\n",
        "        gradb[l].append(e[l])\n",
        "\n",
        "    #backward pass{x,y} -> partial Q(W:x)/partial W\n",
        "    #W^n+1 = W^n - rate/size current batch * sum(for x in B) partial Q(W:x)/partial W\n",
        "    #Add all backward pass outputs to use\n",
        "    for l in range(layers):\n",
        "      weights[l] -= (rate/xbatch.shape[0]) * (np.sum(gradw[l]))\n",
        "      bias[l] -= (rate/xbatch.shape[0] )* (np.sum(gradb[l]))\n",
        "  ls.append(np.sum(crossent))\n",
        "  rate /= 1.1\n",
        "  print(\"Epoch \" + str(epoch) + \" complete. Loss: \" + str(ls[-1] ))\n",
        "  epoch +=1"
      ],
      "execution_count": null,
      "outputs": [
        {
          "output_type": "stream",
          "text": [
            "Epoch 1 complete. Loss: 94.62317169445473\n",
            "Epoch 2 complete. Loss: 94.39888018901472\n"
          ],
          "name": "stdout"
        }
      ]
    },
    {
      "cell_type": "code",
      "metadata": {
        "colab": {
          "base_uri": "https://localhost:8080/"
        },
        "id": "zT5jY5aXuXl1",
        "outputId": "16bfaa64-7608-4cfd-b006-ba63c04a80de"
      },
      "source": [
        "cnt=0\n",
        "tru = 0\n",
        "print(x_test.shape)\n",
        "storeout = []\n",
        "st = []\n",
        "for x in x_test:\n",
        "  yf = weights[0].T.dot(x) + bias[0]\n",
        "  yf[yf<0] == 0\n",
        "  yf = weights[1].T.dot(yf)  + bias[1]\n",
        "  yf[yf<0] == 0\n",
        "  yf = weights[2].T.dot(yf)  + bias[2]\n",
        "  yf = np.exp(( yf - max(yf))/np.sum( np.exp((yf- max( yf) )) ))\n",
        "  storeout.append(np.argmax(yf))\n",
        "  st.append(yf)\n",
        "  if (np.argmax(y) == np.argmax(yh)):\n",
        "    tru+=1\n",
        "  cnt+=1\n",
        "print(tru)"
      ],
      "execution_count": 144,
      "outputs": [
        {
          "output_type": "stream",
          "text": [
            "(12000, 784)\n",
            "0\n"
          ],
          "name": "stdout"
        }
      ]
    },
    {
      "cell_type": "code",
      "metadata": {
        "colab": {
          "base_uri": "https://localhost:8080/",
          "height": 282
        },
        "id": "g1Ir_qyhgfLK",
        "outputId": "3c757e58-4c9c-4235-ef65-8a5232346629"
      },
      "source": [
        "#plt.plot(crossent)\n",
        "plt.plot((ls[2:]))\n",
        "print(ls[2:])"
      ],
      "execution_count": 142,
      "outputs": [
        {
          "output_type": "stream",
          "text": [
            "[93.58842097074614, 95.21027805702727, 90.752242403049, 94.80481484285835]\n"
          ],
          "name": "stdout"
        },
        {
          "output_type": "display_data",
          "data": {
            "image/png": "[encoded data removed]",
            "text/plain": [
              "<Figure size 432x288 with 1 Axes>"
            ]
          },
          "metadata": {
            "tags": [],
            "needs_background": "light"
          }
        }
      ]
    },
    {
      "cell_type": "markdown",
      "metadata": {
        "id": "17PezG-Juace"
      },
      "source": [
        "# Question 2"
      ]
    },
    {
      "cell_type": "code",
      "metadata": {
        "id": "yKwG9-sSuack",
        "colab": {
          "base_uri": "https://localhost:8080/"
        },
        "outputId": "607054ab-afb3-40c5-c1c4-66c1b76e982e"
      },
      "source": [
        "num_classes = 10\n",
        "input_shape = (28, 28, 1)\n",
        "(xtrain, ytrain), (xtest, ytest) = keras.datasets.mnist.load_data()\n",
        "\n",
        "xtrain = xtrain.astype(\"float32\") / 255\n",
        "xtest = xtest.astype(\"float32\") / 255\n",
        "xtrain = np.expand_dims(xtrain, -1)\n",
        "xtest = np.expand_dims(xtest, -1)\n",
        "print(\"x_train shape:\", xtrain.shape)\n",
        "print(xtrain.shape[0], \"train samples\")\n",
        "print(xtest.shape[0], \"test samples\")\n",
        "ytrain = keras.utils.to_categorical(ytrain, num_classes)\n",
        "ytest = keras.utils.to_categorical(ytest, num_classes)"
      ],
      "execution_count": 117,
      "outputs": [
        {
          "output_type": "stream",
          "text": [
            "x_train shape: (60000, 28, 28)\n",
            "60000 train samples\n",
            "10000 test samples\n"
          ],
          "name": "stdout"
        }
      ]
    },
    {
      "cell_type": "code",
      "metadata": {
        "id": "NeDfCintuack",
        "colab": {
          "base_uri": "https://localhost:8080/"
        },
        "outputId": "35a18d6b-edb1-4920-c320-544bcca431c0"
      },
      "source": [
        "model = keras.Sequential(\n",
        "    [\n",
        "        keras.Input(shape=input_shape),\n",
        "        Conv2D(32, kernel_size=(3, 3), activation=\"relu\"),\n",
        "        Conv2D(64, kernel_size=(3, 3), activation=\"relu\"),\n",
        "        Conv2D(64, kernel_size=(3, 3), activation=\"relu\"),\n",
        "        layr.MaxPooling2D(pool_size=(2, 2)),\n",
        "        Flatten(),\n",
        "        Dense(num_classes, activation=\"softmax\"),\n",
        "    ]\n",
        ")\n",
        "\n",
        "model.summary()\n"
      ],
      "execution_count": 122,
      "outputs": [
        {
          "output_type": "stream",
          "text": [
            "Model: \"sequential_3\"\n",
            "_________________________________________________________________\n",
            "Layer (type)                 Output Shape              Param #   \n",
            "=================================================================\n",
            "conv2d_13 (Conv2D)           (None, 26, 26, 32)        320       \n",
            "_________________________________________________________________\n",
            "conv2d_14 (Conv2D)           (None, 24, 24, 64)        18496     \n",
            "_________________________________________________________________\n",
            "conv2d_15 (Conv2D)           (None, 22, 22, 64)        36928     \n",
            "_________________________________________________________________\n",
            "max_pooling2d_3 (MaxPooling2 (None, 11, 11, 64)        0         \n",
            "_________________________________________________________________\n",
            "flatten_4 (Flatten)          (None, 7744)              0         \n",
            "_________________________________________________________________\n",
            "dense_3 (Dense)              (None, 10)                77450     \n",
            "=================================================================\n",
            "Total params: 133,194\n",
            "Trainable params: 133,194\n",
            "Non-trainable params: 0\n",
            "_________________________________________________________________\n"
          ],
          "name": "stdout"
        }
      ]
    },
    {
      "cell_type": "code",
      "metadata": {
        "id": "vqoqSj4suacl",
        "colab": {
          "base_uri": "https://localhost:8080/"
        },
        "outputId": "3b439e4e-f97b-4d3e-a3bb-85764e99968f"
      },
      "source": [
        "batch_size = 128\n",
        "epochs = 2\n",
        "model.compile(loss=\"categorical_crossentropy\", optimizer=\"adam\", metrics=[\"accuracy\"])\n",
        "model.fit(xtrain, ytrain, batch_size=batch_size, epochs=epochs, validation_split=0.1)"
      ],
      "execution_count": 123,
      "outputs": [
        {
          "output_type": "stream",
          "text": [
            "Epoch 1/2\n",
            "422/422 [==============================] - 259s 612ms/step - loss: 0.4208 - accuracy: 0.8694 - val_loss: 0.0545 - val_accuracy: 0.9842\n",
            "Epoch 2/2\n",
            "422/422 [==============================] - 259s 613ms/step - loss: 0.0524 - accuracy: 0.9836 - val_loss: 0.0470 - val_accuracy: 0.9883\n"
          ],
          "name": "stdout"
        },
        {
          "output_type": "execute_result",
          "data": {
            "text/plain": [
              "<tensorflow.python.keras.callbacks.History at 0x7fb766524850>"
            ]
          },
          "metadata": {
            "tags": []
          },
          "execution_count": 123
        }
      ]
    }
  ]
}