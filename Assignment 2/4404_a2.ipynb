{
  "nbformat": 4,
  "nbformat_minor": 0,
  "metadata": {
    "colab": {
      "name": "4404 a2.ipynb",
      "provenance": [],
      "collapsed_sections": [
        "0yvtlj9ul3fb",
        "txIrVhrtmAsk",
        "amOywLiUmFZz",
        "3M_leGRmJFwe",
        "UkhIHaJ2JV-b",
        "uKPVIijbJYMz",
        "9D3t-OuSJaRQ",
        "FnR7GS7QJciS",
        "j6OXYAOk8GdX"
      ]
    },
    "kernelspec": {
      "name": "python3",
      "display_name": "Python 3"
    }
  },
  "cells": [
    {
      "cell_type": "markdown",
      "metadata": {
        "id": "rX75nZ43ly3x"
      },
      "source": [
        "# Imports/Set up"
      ]
    },
    {
      "cell_type": "code",
      "metadata": {
        "colab": {
          "base_uri": "https://localhost:8080/"
        },
        "id": "V3th2njbF4h4",
        "outputId": "486c6452-6912-40ae-a49b-b4549b90c427"
      },
      "source": [
        "!pip install idx2numpy\n",
        "!pip install python_mnist\n",
        "from mnist import MNIST\n",
        "import numpy as np\n",
        "from sklearn.manifold import TSNE\n",
        "from sklearn.preprocessing import StandardScaler\n",
        "import pandas as pd\n",
        "import seaborn as sn\n",
        "import matplotlib.pyplot as plt\n",
        "from scipy.linalg import eigh\n",
        "from google.colab import files\n",
        "from google.colab import drive\n",
        "drive.mount('/content/drive')"
      ],
      "execution_count": null,
      "outputs": [
        {
          "output_type": "stream",
          "text": [
            "Requirement already satisfied: idx2numpy in /usr/local/lib/python3.7/dist-packages (1.2.3)\n",
            "Requirement already satisfied: numpy in /usr/local/lib/python3.7/dist-packages (from idx2numpy) (1.19.5)\n",
            "Requirement already satisfied: six in /usr/local/lib/python3.7/dist-packages (from idx2numpy) (1.15.0)\n",
            "Requirement already satisfied: python_mnist in /usr/local/lib/python3.7/dist-packages (0.7)\n",
            "Drive already mounted at /content/drive; to attempt to forcibly remount, call drive.mount(\"/content/drive\", force_remount=True).\n"
          ],
          "name": "stdout"
        }
      ]
    },
    {
      "cell_type": "code",
      "metadata": {
        "colab": {
          "base_uri": "https://localhost:8080/"
        },
        "id": "EJ8Ym7kdycFI",
        "outputId": "8c54986b-490b-4d7b-f2db-bfb09102b913"
      },
      "source": [
        "mnist_loader = MNIST('/content/drive/My Drive/')\n",
        "train_data, train_label = mnist_loader.load_training()\n",
        "test_data, test_label = mnist_loader.load_testing()\n",
        "train_data = np.array(train_data)\n",
        "train_label = np.array(train_label)\n",
        "test_data = np.array(test_data)\n",
        "test_label = np.array(test_label)\n",
        "print(train_data.shape)\n",
        "print(train_label.shape)\n",
        "print(test_data.shape)\n",
        "print(test_label.shape)"
      ],
      "execution_count": null,
      "outputs": [
        {
          "output_type": "stream",
          "text": [
            "(60000, 784)\n",
            "(60000,)\n",
            "(10000, 784)\n",
            "(10000,)\n"
          ],
          "name": "stdout"
        }
      ]
    },
    {
      "cell_type": "code",
      "metadata": {
        "id": "pW_y-8Qj40J8"
      },
      "source": [
        "#getting specific data and standardizing\n",
        "substdata = np.where((train_label == 4) |(train_label == 7) | (train_label == 8)) \n",
        "sublabels = train_label[substdata]"
      ],
      "execution_count": null,
      "outputs": []
    },
    {
      "cell_type": "markdown",
      "metadata": {
        "id": "0yvtlj9ul3fb"
      },
      "source": [
        "# PCA (1.A)"
      ]
    },
    {
      "cell_type": "code",
      "metadata": {
        "id": "Ac4Y0NdqxMoe"
      },
      "source": [
        "stdata = train_data[substdata] - np.mean(train_data[substdata] , axis=0)\n",
        "covar = np.cov(stdata.T)\n",
        "lambd, vec = eigh(covar, eigvals=(782,783))# num dimensions = [b,a]\n",
        "pca = np.matmul(train_data[substdata],vec)"
      ],
      "execution_count": null,
      "outputs": []
    },
    {
      "cell_type": "code",
      "metadata": {
        "id": "CoOGq0DXcW1Q"
      },
      "source": [
        "#Takes much longer to run than below but produces a smoother graph\n",
        "#disterr = []\n",
        "#for i in range(1,len(stdata[0])):\n",
        "  #eigval, eigvec = eigh(covar, eigvals=(i, len(vec)-1))\n",
        "  #disterr.append( np.linalg.norm( stdata - (np.dot(np.dot(eigvec.T, stdata.T).T, eigvec.T))  ))\n",
        "#disterr.reverse()\n",
        "#plt.plot(range(1,len(disterr)+1),disterr)\n",
        "#plt.ylabel('Distortion error')\n",
        "#plt.xlabel('num dimensions')\n",
        "#plt.show()"
      ],
      "execution_count": null,
      "outputs": []
    },
    {
      "cell_type": "code",
      "metadata": {
        "colab": {
          "base_uri": "https://localhost:8080/",
          "height": 279
        },
        "id": "qnc4CVHMuYFo",
        "outputId": "009f5bdb-71b8-4216-86eb-793e16cb9686"
      },
      "source": [
        "m = [2,5,10,50,100,300,500,782]#num dimensions \n",
        "disterr=[]\n",
        "for i in m:\n",
        "  dval, dvec = eigh(covar, eigvals=(len(vec)-i,len(vec)-1))\n",
        "  disterr.append( np.linalg.norm( stdata - (np.dot(np.dot(dvec.T, stdata.T).T, dvec.T))  ))\n",
        "plt.plot(m,disterr)\n",
        "plt.ylabel('Distortion error')\n",
        "plt.xlabel('num dimensions')\n",
        "plt.show()"
      ],
      "execution_count": null,
      "outputs": [
        {
          "output_type": "display_data",
          "data": {
            "image/png": "[encoded data removed]",
            "text/plain": [
              "<Figure size 432x288 with 1 Axes>"
            ]
          },
          "metadata": {
            "tags": [],
            "needs_background": "light"
          }
        }
      ]
    },
    {
      "cell_type": "code",
      "metadata": {
        "colab": {
          "base_uri": "https://localhost:8080/",
          "height": 1000
        },
        "id": "AxeGIFySTKVI",
        "outputId": "b7018ea6-9aa6-4e63-ad27-aeaad202794c"
      },
      "source": [
        "#VARIANCE\n",
        "cnt = 0\n",
        "eva, eve = np.linalg.eig(covar)\n",
        "print(eva)\n",
        "var = [(i/np.sum(eva)) for i in (eva)]\n",
        "sumeig = np.sum(var)\n",
        "#print(len(var))\n",
        "#print(sumeig)\n",
        "plt.plot(range(1,len(eva)+1), eva)\n",
        "variance = 0\n",
        "for i in eva:\n",
        "  cnt+=1\n",
        "  variance +=i\n",
        "  if variance/np.sum(eva) >=0.98:\n",
        "    print(\"Variance is >= 0.98 when at least \" + str(cnt) + \" dimensions are used\")\n",
        "    break\n",
        "#plt.hlines(0.98, 300,500)\n",
        "#plt.axvline(408,0.8,1)\n",
        "plt.ylabel('Variance')\n",
        "plt.xlabel('# Components')\n",
        "plt.tight_layout()\n",
        "plt.show()"
      ],
      "execution_count": null,
      "outputs": [
        {
          "output_type": "stream",
          "text": [
            "[ 3.40834255e+05+0.00000000e+00j  2.78992989e+05+0.00000000e+00j\n",
            "  2.09727443e+05+0.00000000e+00j  1.77455702e+05+0.00000000e+00j\n",
            "  1.36479581e+05+0.00000000e+00j  1.16082361e+05+0.00000000e+00j\n",
            "  9.06093260e+04+0.00000000e+00j  8.38706798e+04+0.00000000e+00j\n",
            "  8.14621805e+04+0.00000000e+00j  7.43007286e+04+0.00000000e+00j\n",
            "  6.30083855e+04+0.00000000e+00j  5.62079805e+04+0.00000000e+00j\n",
            "  5.11813007e+04+0.00000000e+00j  4.69719412e+04+0.00000000e+00j\n",
            "  4.46330977e+04+0.00000000e+00j  4.14858511e+04+0.00000000e+00j\n",
            "  4.05783429e+04+0.00000000e+00j  3.63358722e+04+0.00000000e+00j\n",
            "  3.42679160e+04+0.00000000e+00j  3.26014870e+04+0.00000000e+00j\n",
            "  2.97981556e+04+0.00000000e+00j  2.92871367e+04+0.00000000e+00j\n",
            "  2.79158153e+04+0.00000000e+00j  2.65507230e+04+0.00000000e+00j\n",
            "  2.54096209e+04+0.00000000e+00j  2.46011995e+04+0.00000000e+00j\n",
            "  2.35439704e+04+0.00000000e+00j  2.23848024e+04+0.00000000e+00j\n",
            "  2.12472514e+04+0.00000000e+00j  1.98481872e+04+0.00000000e+00j\n",
            "  1.91695858e+04+0.00000000e+00j  1.88371484e+04+0.00000000e+00j\n",
            "  1.84299597e+04+0.00000000e+00j  1.76784504e+04+0.00000000e+00j\n",
            "  1.72223681e+04+0.00000000e+00j  1.63922109e+04+0.00000000e+00j\n",
            "  1.60381823e+04+0.00000000e+00j  1.50388906e+04+0.00000000e+00j\n",
            "  1.41015198e+04+0.00000000e+00j  1.37738870e+04+0.00000000e+00j\n",
            "  1.31599982e+04+0.00000000e+00j  1.26735839e+04+0.00000000e+00j\n",
            "  1.25259011e+04+0.00000000e+00j  1.21436146e+04+0.00000000e+00j\n",
            "  1.18332667e+04+0.00000000e+00j  1.13726902e+04+0.00000000e+00j\n",
            "  1.08619031e+04+0.00000000e+00j  1.05346796e+04+0.00000000e+00j\n",
            "  1.05988162e+04+0.00000000e+00j  9.92310339e+03+0.00000000e+00j\n",
            "  9.58091817e+03+0.00000000e+00j  9.30223675e+03+0.00000000e+00j\n",
            "  9.00826335e+03+0.00000000e+00j  8.79433599e+03+0.00000000e+00j\n",
            "  8.57669925e+03+0.00000000e+00j  8.13082083e+03+0.00000000e+00j\n",
            "  8.03290405e+03+0.00000000e+00j  7.71146642e+03+0.00000000e+00j\n",
            "  7.62922538e+03+0.00000000e+00j  7.15956697e+03+0.00000000e+00j\n",
            "  6.91919799e+03+0.00000000e+00j  6.89624316e+03+0.00000000e+00j\n",
            "  6.59522977e+03+0.00000000e+00j  6.63583137e+03+0.00000000e+00j\n",
            "  6.32369771e+03+0.00000000e+00j  6.23822367e+03+0.00000000e+00j\n",
            "  6.12439286e+03+0.00000000e+00j  6.04584843e+03+0.00000000e+00j\n",
            "  5.89048812e+03+0.00000000e+00j  5.77407064e+03+0.00000000e+00j\n",
            "  5.63734961e+03+0.00000000e+00j  5.50752336e+03+0.00000000e+00j\n",
            "  5.24253678e+03+0.00000000e+00j  5.10897207e+03+0.00000000e+00j\n",
            "  5.04641720e+03+0.00000000e+00j  5.07638469e+03+0.00000000e+00j\n",
            "  4.84002478e+03+0.00000000e+00j  4.65368759e+03+0.00000000e+00j\n",
            "  4.52968335e+03+0.00000000e+00j  4.54931041e+03+0.00000000e+00j\n",
            "  4.42742566e+03+0.00000000e+00j  4.30274118e+03+0.00000000e+00j\n",
            "  4.21627935e+03+0.00000000e+00j  4.24312579e+03+0.00000000e+00j\n",
            "  4.03079255e+03+0.00000000e+00j  3.94562625e+03+0.00000000e+00j\n",
            "  3.85614254e+03+0.00000000e+00j  3.80112320e+03+0.00000000e+00j\n",
            "  3.53988956e+03+0.00000000e+00j  3.60847904e+03+0.00000000e+00j\n",
            "  3.70427560e+03+0.00000000e+00j  3.67721330e+03+0.00000000e+00j\n",
            "  3.50605919e+03+0.00000000e+00j  3.45622172e+03+0.00000000e+00j\n",
            "  3.36304399e+03+0.00000000e+00j  3.26348296e+03+0.00000000e+00j\n",
            "  3.15790318e+03+0.00000000e+00j  3.17438418e+03+0.00000000e+00j\n",
            "  3.07079049e+03+0.00000000e+00j  3.03708336e+03+0.00000000e+00j\n",
            "  2.99911367e+03+0.00000000e+00j  2.96309530e+03+0.00000000e+00j\n",
            "  2.84533123e+03+0.00000000e+00j  2.82361653e+03+0.00000000e+00j\n",
            "  2.79418301e+03+0.00000000e+00j  2.74426002e+03+0.00000000e+00j\n",
            "  2.72118487e+03+0.00000000e+00j  2.63670047e+03+0.00000000e+00j\n",
            "  2.67583076e+03+0.00000000e+00j  2.56968736e+03+0.00000000e+00j\n",
            "  2.55108203e+03+0.00000000e+00j  2.51864396e+03+0.00000000e+00j\n",
            "  2.46613978e+03+0.00000000e+00j  2.47248574e+03+0.00000000e+00j\n",
            "  2.38490778e+03+0.00000000e+00j  2.35456406e+03+0.00000000e+00j\n",
            "  2.30553269e+03+0.00000000e+00j  2.28537540e+03+0.00000000e+00j\n",
            "  2.26163542e+03+0.00000000e+00j  2.24597349e+03+0.00000000e+00j\n",
            "  2.14488353e+03+0.00000000e+00j  2.18708602e+03+0.00000000e+00j\n",
            "  2.17559012e+03+0.00000000e+00j  2.10312360e+03+0.00000000e+00j\n",
            "  2.01206817e+03+0.00000000e+00j  2.03839224e+03+0.00000000e+00j\n",
            "  2.05550863e+03+0.00000000e+00j  1.97034678e+03+0.00000000e+00j\n",
            "  1.92338888e+03+0.00000000e+00j  1.81699908e+03+0.00000000e+00j\n",
            "  1.84372795e+03+0.00000000e+00j  1.86233968e+03+0.00000000e+00j\n",
            "  1.88501319e+03+0.00000000e+00j  1.89904374e+03+0.00000000e+00j\n",
            "  1.79083135e+03+0.00000000e+00j  1.74060085e+03+0.00000000e+00j\n",
            "  1.71613636e+03+0.00000000e+00j  1.69863349e+03+0.00000000e+00j\n",
            "  1.68659506e+03+0.00000000e+00j  1.68747718e+03+0.00000000e+00j\n",
            "  1.61503888e+03+0.00000000e+00j  1.62229451e+03+0.00000000e+00j\n",
            "  1.62910328e+03+0.00000000e+00j  1.63098389e+03+0.00000000e+00j\n",
            "  1.58159368e+03+0.00000000e+00j  1.56015777e+03+0.00000000e+00j\n",
            "  1.54225726e+03+0.00000000e+00j  1.52658522e+03+0.00000000e+00j\n",
            "  1.51811350e+03+0.00000000e+00j  1.45113863e+03+0.00000000e+00j\n",
            "  1.49537339e+03+0.00000000e+00j  1.47711874e+03+0.00000000e+00j\n",
            "  1.48655730e+03+0.00000000e+00j  1.43439169e+03+0.00000000e+00j\n",
            "  1.41639779e+03+0.00000000e+00j  1.40152967e+03+0.00000000e+00j\n",
            "  1.38067111e+03+0.00000000e+00j  1.35587640e+03+0.00000000e+00j\n",
            "  1.34226856e+03+0.00000000e+00j  1.33228368e+03+0.00000000e+00j\n",
            "  1.30722240e+03+0.00000000e+00j  1.31655397e+03+0.00000000e+00j\n",
            "  1.31424359e+03+0.00000000e+00j  1.28272544e+03+0.00000000e+00j\n",
            "  1.27063492e+03+0.00000000e+00j  1.25482166e+03+0.00000000e+00j\n",
            "  1.26501299e+03+0.00000000e+00j  1.24501018e+03+0.00000000e+00j\n",
            "  1.22539576e+03+0.00000000e+00j  1.20755382e+03+0.00000000e+00j\n",
            "  1.17219654e+03+0.00000000e+00j  1.19513681e+03+0.00000000e+00j\n",
            "  1.15991594e+03+0.00000000e+00j  1.13184725e+03+0.00000000e+00j\n",
            "  1.12810418e+03+0.00000000e+00j  1.12147277e+03+0.00000000e+00j\n",
            "  1.06345699e+03+0.00000000e+00j  1.07236378e+03+0.00000000e+00j\n",
            "  1.08105836e+03+0.00000000e+00j  1.10461683e+03+0.00000000e+00j\n",
            "  1.10005610e+03+0.00000000e+00j  1.10045970e+03+0.00000000e+00j\n",
            "  1.05869658e+03+0.00000000e+00j  1.04151100e+03+0.00000000e+00j\n",
            "  1.02712595e+03+0.00000000e+00j  8.45689202e+02+0.00000000e+00j\n",
            "  8.51448251e+02+0.00000000e+00j  1.01278222e+03+0.00000000e+00j\n",
            "  9.90879294e+02+0.00000000e+00j  9.77142670e+02+0.00000000e+00j\n",
            "  1.02089285e+03+0.00000000e+00j  8.68670279e+02+0.00000000e+00j\n",
            "  9.68459253e+02+0.00000000e+00j  8.89000042e+02+0.00000000e+00j\n",
            "  9.43244542e+02+0.00000000e+00j  9.18110133e+02+0.00000000e+00j\n",
            "  9.97862996e+02+0.00000000e+00j  9.36518521e+02+0.00000000e+00j\n",
            "  8.64202647e+02+0.00000000e+00j  9.09271788e+02+0.00000000e+00j\n",
            "  9.56570790e+02+0.00000000e+00j  8.57605323e+02+0.00000000e+00j\n",
            "  9.01070141e+02+0.00000000e+00j  9.04406385e+02+0.00000000e+00j\n",
            "  9.62868488e+02+0.00000000e+00j  9.30977301e+02+0.00000000e+00j\n",
            "  8.29537719e+02+0.00000000e+00j  8.25294189e+02+0.00000000e+00j\n",
            "  8.16968636e+02+0.00000000e+00j  8.12718768e+02+0.00000000e+00j\n",
            "  8.04749938e+02+0.00000000e+00j  8.02619232e+02+0.00000000e+00j\n",
            "  7.95976328e+02+0.00000000e+00j  7.93906708e+02+0.00000000e+00j\n",
            "  7.88844568e+02+0.00000000e+00j  7.72600764e+02+0.00000000e+00j\n",
            "  7.77927561e+02+0.00000000e+00j  7.59790294e+02+0.00000000e+00j\n",
            "  7.54834146e+02+0.00000000e+00j  7.50133896e+02+0.00000000e+00j\n",
            "  7.47947901e+02+0.00000000e+00j  7.43768988e+02+0.00000000e+00j\n",
            "  7.34964457e+02+0.00000000e+00j  7.23891700e+02+0.00000000e+00j\n",
            "  7.14399505e+02+0.00000000e+00j  7.10919541e+02+0.00000000e+00j\n",
            "  7.03214639e+02+0.00000000e+00j  6.95182142e+02+0.00000000e+00j\n",
            "  6.93811257e+02+0.00000000e+00j  5.46983864e+02+0.00000000e+00j\n",
            "  6.89310887e+02+0.00000000e+00j  5.50693371e+02+0.00000000e+00j\n",
            "  6.79028557e+02+0.00000000e+00j  6.75401852e+02+0.00000000e+00j\n",
            "  6.72222378e+02+0.00000000e+00j  6.62757925e+02+0.00000000e+00j\n",
            "  5.56426097e+02+0.00000000e+00j  5.58368341e+02+0.00000000e+00j\n",
            "  5.62438854e+02+0.00000000e+00j  5.68356107e+02+0.00000000e+00j\n",
            "  5.78224407e+02+0.00000000e+00j  6.55909336e+02+0.00000000e+00j\n",
            "  5.87998907e+02+0.00000000e+00j  6.44407421e+02+0.00000000e+00j\n",
            "  6.38925453e+02+0.00000000e+00j  5.97962810e+02+0.00000000e+00j\n",
            "  6.19404094e+02+0.00000000e+00j  6.14623332e+02+0.00000000e+00j\n",
            "  6.30730896e+02+0.00000000e+00j  6.25903031e+02+0.00000000e+00j\n",
            "  6.48198376e+02+0.00000000e+00j  5.74263811e+02+0.00000000e+00j\n",
            "  5.92756871e+02+0.00000000e+00j  6.34019605e+02+0.00000000e+00j\n",
            "  6.09200985e+02+0.00000000e+00j  6.03248910e+02+0.00000000e+00j\n",
            "  6.54407074e+02+0.00000000e+00j  5.90288128e+02+0.00000000e+00j\n",
            "  5.40835973e+02+0.00000000e+00j  5.37153337e+02+0.00000000e+00j\n",
            "  5.33090106e+02+0.00000000e+00j  5.29162125e+02+0.00000000e+00j\n",
            "  5.21457058e+02+0.00000000e+00j  5.23169704e+02+0.00000000e+00j\n",
            "  5.26047671e+02+0.00000000e+00j  4.17310854e+02+0.00000000e+00j\n",
            "  4.21418190e+02+0.00000000e+00j  5.12319439e+02+0.00000000e+00j\n",
            "  5.09065618e+02+0.00000000e+00j  4.24743204e+02+0.00000000e+00j\n",
            "  4.25451003e+02+0.00000000e+00j  4.27896010e+02+0.00000000e+00j\n",
            "  4.30133334e+02+0.00000000e+00j  5.04994511e+02+0.00000000e+00j\n",
            "  4.81548593e+02+0.00000000e+00j  4.84461452e+02+0.00000000e+00j\n",
            "  5.02213899e+02+0.00000000e+00j  4.96506432e+02+0.00000000e+00j\n",
            "  4.90477500e+02+0.00000000e+00j  4.60034800e+02+0.00000000e+00j\n",
            "  4.61992641e+02+0.00000000e+00j  4.72889907e+02+0.00000000e+00j\n",
            "  4.47385140e+02+0.00000000e+00j  4.42157759e+02+0.00000000e+00j\n",
            "  4.54236426e+02+0.00000000e+00j  4.98905533e+02+0.00000000e+00j\n",
            "  5.00867326e+02+0.00000000e+00j  4.51292285e+02+0.00000000e+00j\n",
            "  4.88704333e+02+0.00000000e+00j  4.42998227e+02+0.00000000e+00j\n",
            "  4.68327113e+02+0.00000000e+00j  4.33788922e+02+0.00000000e+00j\n",
            "  4.33865711e+02+0.00000000e+00j  4.52682381e+02+0.00000000e+00j\n",
            "  4.70594183e+02+0.00000000e+00j  3.34035079e+02+0.00000000e+00j\n",
            "  3.37354870e+02+0.00000000e+00j  3.38142766e+02+0.00000000e+00j\n",
            "  3.41559624e+02+0.00000000e+00j  3.44570014e+02+0.00000000e+00j\n",
            "  3.48232234e+02+0.00000000e+00j  3.51149138e+02+0.00000000e+00j\n",
            "  3.57065113e+02+0.00000000e+00j  3.65176869e+02+0.00000000e+00j\n",
            "  3.67308218e+02+0.00000000e+00j  3.78760612e+02+0.00000000e+00j\n",
            "  4.04516777e+02+0.00000000e+00j  4.08903664e+02+0.00000000e+00j\n",
            "  3.55748074e+02+0.00000000e+00j  3.83833889e+02+0.00000000e+00j\n",
            "  3.73035132e+02+0.00000000e+00j  4.13696146e+02+0.00000000e+00j\n",
            "  3.93638386e+02+0.00000000e+00j  3.70284669e+02+0.00000000e+00j\n",
            "  3.88842925e+02+0.00000000e+00j  3.99218982e+02+0.00000000e+00j\n",
            "  3.97672421e+02+0.00000000e+00j  3.89677615e+02+0.00000000e+00j\n",
            "  3.62404760e+02+0.00000000e+00j  3.70986433e+02+0.00000000e+00j\n",
            "  4.12155435e+02+0.00000000e+00j  4.11678587e+02+0.00000000e+00j\n",
            "  3.80489662e+02+0.00000000e+00j  3.96399720e+02+0.00000000e+00j\n",
            "  2.65529963e+02+0.00000000e+00j  2.67661154e+02+0.00000000e+00j\n",
            "  3.30348758e+02+0.00000000e+00j  3.24246192e+02+0.00000000e+00j\n",
            "  3.24040730e+02+0.00000000e+00j  2.71837900e+02+0.00000000e+00j\n",
            "  3.19342564e+02+0.00000000e+00j  2.76471702e+02+0.00000000e+00j\n",
            "  3.04282250e+02+0.00000000e+00j  3.07846512e+02+0.00000000e+00j\n",
            "  3.17845092e+02+0.00000000e+00j  3.15168382e+02+0.00000000e+00j\n",
            "  2.99359030e+02+0.00000000e+00j  2.97823553e+02+0.00000000e+00j\n",
            "  3.11294080e+02+0.00000000e+00j  2.83522896e+02+0.00000000e+00j\n",
            "  2.91167606e+02+0.00000000e+00j  2.87969632e+02+0.00000000e+00j\n",
            "  3.16258567e+02+0.00000000e+00j  2.79773759e+02+0.00000000e+00j\n",
            "  2.81139872e+02+0.00000000e+00j  2.92522235e+02+0.00000000e+00j\n",
            "  2.87408581e+02+0.00000000e+00j  2.94128585e+02+0.00000000e+00j\n",
            "  3.10716578e+02+0.00000000e+00j  2.80308615e+02+0.00000000e+00j\n",
            "  2.63601341e+02+0.00000000e+00j  2.60240452e+02+0.00000000e+00j\n",
            "  2.68335609e+02+0.00000000e+00j  2.50011047e+02+0.00000000e+00j\n",
            "  2.53628396e+02+0.00000000e+00j  2.55397917e+02+0.00000000e+00j\n",
            "  2.45986406e+02+0.00000000e+00j  2.56778532e+02+0.00000000e+00j\n",
            "  2.57538076e+02+0.00000000e+00j  2.54491404e+02+0.00000000e+00j\n",
            "  2.39168390e+02+0.00000000e+00j  2.38400706e+02+0.00000000e+00j\n",
            "  2.33189320e+02+0.00000000e+00j  2.29962698e+02+0.00000000e+00j\n",
            "  2.26514278e+02+0.00000000e+00j  1.74349750e+02+0.00000000e+00j\n",
            "  2.22734152e+02+0.00000000e+00j  2.24723042e+02+0.00000000e+00j\n",
            "  2.35447914e+02+0.00000000e+00j  2.16530463e+02+0.00000000e+00j\n",
            "  2.12112508e+02+0.00000000e+00j  1.83426797e+02+0.00000000e+00j\n",
            "  1.82624760e+02+0.00000000e+00j  1.86416916e+02+0.00000000e+00j\n",
            "  2.08222552e+02+0.00000000e+00j  2.09916656e+02+0.00000000e+00j\n",
            "  2.02053743e+02+0.00000000e+00j  1.88012293e+02+0.00000000e+00j\n",
            "  1.94070034e+02+0.00000000e+00j  2.10989638e+02+0.00000000e+00j\n",
            "  2.00611447e+02+0.00000000e+00j  1.97701250e+02+0.00000000e+00j\n",
            "  1.96369752e+02+0.00000000e+00j  2.06535389e+02+0.00000000e+00j\n",
            "  2.15287699e+02+0.00000000e+00j  1.90784077e+02+0.00000000e+00j\n",
            "  1.90221014e+02+0.00000000e+00j  1.98639213e+02+0.00000000e+00j\n",
            "  1.76954505e+02+0.00000000e+00j  1.72641455e+02+0.00000000e+00j\n",
            "  1.71581515e+02+0.00000000e+00j  1.66359260e+02+0.00000000e+00j\n",
            "  1.68675117e+02+0.00000000e+00j  1.52751368e+02+0.00000000e+00j\n",
            "  1.57081821e+02+0.00000000e+00j  1.61549023e+02+0.00000000e+00j\n",
            "  1.63427517e+02+0.00000000e+00j  1.65032273e+02+0.00000000e+00j\n",
            "  1.50773378e+02+0.00000000e+00j  1.48625932e+02+0.00000000e+00j\n",
            "  1.57912398e+02+0.00000000e+00j  1.55144876e+02+0.00000000e+00j\n",
            "  1.46587808e+02+0.00000000e+00j  1.45505542e+02+0.00000000e+00j\n",
            "  1.41826521e+02+0.00000000e+00j  1.43590785e+02+0.00000000e+00j\n",
            "  1.38135492e+02+0.00000000e+00j  8.60221884e+01+0.00000000e+00j\n",
            "  1.35163275e+02+0.00000000e+00j  8.70769628e+01+0.00000000e+00j\n",
            "  8.87528561e+01+0.00000000e+00j  8.97487856e+01+0.00000000e+00j\n",
            "  1.32971655e+02+0.00000000e+00j  1.28824820e+02+0.00000000e+00j\n",
            "  1.31691852e+02+0.00000000e+00j  1.28022876e+02+0.00000000e+00j\n",
            "  1.25971382e+02+0.00000000e+00j  9.18713509e+01+0.00000000e+00j\n",
            "  9.19975990e+01+0.00000000e+00j  1.23996091e+02+0.00000000e+00j\n",
            "  1.22926678e+02+0.00000000e+00j  9.43841720e+01+0.00000000e+00j\n",
            "  9.62264919e+01+0.00000000e+00j  9.54218369e+01+0.00000000e+00j\n",
            "  1.21500963e+02+0.00000000e+00j  9.98360227e+01+0.00000000e+00j\n",
            "  1.00785809e+02+0.00000000e+00j  1.01769441e+02+0.00000000e+00j\n",
            "  1.17970072e+02+0.00000000e+00j  1.19110999e+02+0.00000000e+00j\n",
            "  1.14990783e+02+0.00000000e+00j  1.04691353e+02+0.00000000e+00j\n",
            "  1.04027294e+02+0.00000000e+00j  1.07020297e+02+0.00000000e+00j\n",
            "  1.11338033e+02+0.00000000e+00j  1.13595357e+02+0.00000000e+00j\n",
            "  1.16373474e+02+0.00000000e+00j  1.10408744e+02+0.00000000e+00j\n",
            "  1.09354861e+02+0.00000000e+00j  1.08854181e+02+0.00000000e+00j\n",
            "  7.52184265e+01+0.00000000e+00j  7.41536179e+01+0.00000000e+00j\n",
            "  7.76869652e+01+0.00000000e+00j  8.32329992e+01+0.00000000e+00j\n",
            "  7.96142459e+01+0.00000000e+00j  7.92156021e+01+0.00000000e+00j\n",
            "  8.23270545e+01+0.00000000e+00j  8.14245587e+01+0.00000000e+00j\n",
            "  7.32117690e+01+0.00000000e+00j  7.21837999e+01+0.00000000e+00j\n",
            "  7.09080440e+01+0.00000000e+00j  7.03481482e+01+0.00000000e+00j\n",
            "  6.79338954e+01+0.00000000e+00j  6.59020342e+01+0.00000000e+00j\n",
            "  6.70274734e+01+0.00000000e+00j  6.65340692e+01+0.00000000e+00j\n",
            "  6.37121660e+01+0.00000000e+00j  6.27357751e+01+0.00000000e+00j\n",
            "  6.24010551e+01+0.00000000e+00j  6.13324485e+01+0.00000000e+00j\n",
            "  5.68657689e+01+0.00000000e+00j  6.07480200e+01+0.00000000e+00j\n",
            "  5.56183556e+01+0.00000000e+00j  6.00258567e+01+0.00000000e+00j\n",
            "  5.88772467e+01+0.00000000e+00j  5.84430387e+01+0.00000000e+00j\n",
            "  5.40445716e+01+0.00000000e+00j  5.26236285e+01+0.00000000e+00j\n",
            "  5.31620201e+01+0.00000000e+00j  4.63491452e+01+0.00000000e+00j\n",
            "  4.50349190e+01+0.00000000e+00j  4.81538289e+01+0.00000000e+00j\n",
            "  4.76596340e+01+0.00000000e+00j  5.13916304e+01+0.00000000e+00j\n",
            "  5.07250975e+01+0.00000000e+00j  4.86388368e+01+0.00000000e+00j\n",
            "  4.48208694e+01+0.00000000e+00j  4.43259470e+01+0.00000000e+00j\n",
            "  4.41477115e+01+0.00000000e+00j  4.04428909e+01+0.00000000e+00j\n",
            "  4.12784560e+01+0.00000000e+00j  4.16851109e+01+0.00000000e+00j\n",
            "  4.20850855e+01+0.00000000e+00j  3.91286520e+01+0.00000000e+00j\n",
            "  3.84701148e+01+0.00000000e+00j  3.89348121e+01+0.00000000e+00j\n",
            "  3.73773705e+01+0.00000000e+00j  3.69142992e+01+0.00000000e+00j\n",
            "  3.58463062e+01+0.00000000e+00j  3.40520996e+01+0.00000000e+00j\n",
            "  3.36480388e+01+0.00000000e+00j  3.24334590e+01+0.00000000e+00j\n",
            "  3.29344285e+01+0.00000000e+00j  2.96279488e+01+0.00000000e+00j\n",
            "  3.04086535e+01+0.00000000e+00j  3.27519477e+01+0.00000000e+00j\n",
            "  3.09197723e+01+0.00000000e+00j  3.12535755e+01+0.00000000e+00j\n",
            "  3.13702547e+01+0.00000000e+00j  2.68800747e+01+0.00000000e+00j\n",
            "  2.64374616e+01+0.00000000e+00j  2.47803742e+01+0.00000000e+00j\n",
            "  2.69207089e+01+0.00000000e+00j  2.42813444e+01+0.00000000e+00j\n",
            "  2.57000964e+01+0.00000000e+00j  2.26172678e+01+0.00000000e+00j\n",
            "  2.22055858e+01+0.00000000e+00j  2.17760700e+01+0.00000000e+00j\n",
            "  2.15918864e+01+0.00000000e+00j  2.11400467e+01+0.00000000e+00j\n",
            "  2.07153051e+01+0.00000000e+00j  2.02611248e+01+0.00000000e+00j\n",
            "  2.03450850e+01+0.00000000e+00j  1.89759486e+01+0.00000000e+00j\n",
            "  1.97286405e+01+0.00000000e+00j  9.77081475e+00+0.00000000e+00j\n",
            "  1.83889543e+01+0.00000000e+00j  1.81752052e+01+0.00000000e+00j\n",
            "  1.76082750e+01+0.00000000e+00j  1.68522921e+01+0.00000000e+00j\n",
            "  9.95764008e+00+0.00000000e+00j  1.05941224e+01+0.00000000e+00j\n",
            "  1.04508408e+01+0.00000000e+00j  1.08652288e+01+0.00000000e+00j\n",
            "  1.63543022e+01+0.00000000e+00j  1.12534302e+01+0.00000000e+00j\n",
            "  1.01142578e+01+0.00000000e+00j  1.53684536e+01+0.00000000e+00j\n",
            "  1.46128249e+01+0.00000000e+00j  1.01572227e+01+0.00000000e+00j\n",
            "  1.18308022e+01+0.00000000e+00j  1.44179913e+01+0.00000000e+00j\n",
            "  1.37767364e+01+0.00000000e+00j  1.28943368e+01+0.00000000e+00j\n",
            "  1.57357116e+01+0.00000000e+00j  1.39268207e+01+0.00000000e+00j\n",
            "  1.22790814e+01+0.00000000e+00j  1.24699106e+01+0.00000000e+00j\n",
            "  1.26198893e+01+0.00000000e+00j  1.70787529e+01+0.00000000e+00j\n",
            "  1.61017951e+01+0.00000000e+00j  6.89310994e+00+0.00000000e+00j\n",
            "  8.77717375e+00+0.00000000e+00j  9.20980819e+00+0.00000000e+00j\n",
            "  7.29429058e+00+0.00000000e+00j  7.85432311e+00+0.00000000e+00j\n",
            "  7.08458189e+00+0.00000000e+00j  7.24317729e+00+0.00000000e+00j\n",
            "  8.01111610e+00+0.00000000e+00j  9.14088239e+00+0.00000000e+00j\n",
            "  9.07882336e+00+0.00000000e+00j  7.97310451e+00+0.00000000e+00j\n",
            "  6.38511642e+00+0.00000000e+00j  6.20326906e+00+0.00000000e+00j\n",
            "  6.17232221e+00+0.00000000e+00j  5.93964551e+00+0.00000000e+00j\n",
            "  5.09884330e+00+0.00000000e+00j  5.72346215e+00+0.00000000e+00j\n",
            "  5.44547305e+00+0.00000000e+00j  5.49495759e+00+0.00000000e+00j\n",
            "  5.56629843e+00+0.00000000e+00j  5.61716610e+00+0.00000000e+00j\n",
            "  4.91362540e+00+0.00000000e+00j  4.66160561e+00+0.00000000e+00j\n",
            "  4.53165003e+00+0.00000000e+00j  4.40720127e+00+0.00000000e+00j\n",
            "  1.59200416e+00+0.00000000e+00j  1.88757137e+00+0.00000000e+00j\n",
            "  2.06646633e+00+0.00000000e+00j  1.98497580e+00+0.00000000e+00j\n",
            "  4.10624221e+00+0.00000000e+00j  4.13841938e+00+0.00000000e+00j\n",
            "  2.25127596e+00+0.00000000e+00j  4.03893166e+00+0.00000000e+00j\n",
            "  3.84879979e+00+0.00000000e+00j  2.62182691e+00+0.00000000e+00j\n",
            "  2.47316347e+00+0.00000000e+00j  2.81691358e+00+0.00000000e+00j\n",
            "  2.98738317e+00+0.00000000e+00j  2.34457085e+00+0.00000000e+00j\n",
            "  3.66645265e+00+0.00000000e+00j  2.38845027e+00+0.00000000e+00j\n",
            "  3.21096134e+00+0.00000000e+00j  3.60716394e+00+0.00000000e+00j\n",
            "  3.46601752e+00+0.00000000e+00j  3.54891738e+00+0.00000000e+00j\n",
            "  3.52487419e+00+0.00000000e+00j  3.31831303e+00+0.00000000e+00j\n",
            "  3.27128969e+00+0.00000000e+00j  3.28649053e+00+0.00000000e+00j\n",
            "  3.44805270e+00+0.00000000e+00j  1.85638821e+00+0.00000000e+00j\n",
            "  1.62783233e+00+0.00000000e+00j  1.45026155e+00+0.00000000e+00j\n",
            "  1.39591521e+00+0.00000000e+00j  1.37671866e+00+0.00000000e+00j\n",
            "  9.41662907e-01+0.00000000e+00j  1.19549404e+00+0.00000000e+00j\n",
            "  1.20151000e+00+0.00000000e+00j  9.18824081e-01+0.00000000e+00j\n",
            "  1.14162099e+00+0.00000000e+00j  1.20490158e+00+0.00000000e+00j\n",
            "  7.50818000e-01+0.00000000e+00j  8.21145789e-01+0.00000000e+00j\n",
            "  6.21886587e-01+0.00000000e+00j  6.57198672e-01+0.00000000e+00j\n",
            "  5.28970468e-01+0.00000000e+00j  4.91827979e-01+0.00000000e+00j\n",
            "  5.08975752e-01+0.00000000e+00j  4.12266642e-01+0.00000000e+00j\n",
            "  3.83481263e-01+0.00000000e+00j  3.82264201e-01+0.00000000e+00j\n",
            "  3.07324118e-01+0.00000000e+00j  3.16049194e-01+0.00000000e+00j\n",
            "  2.60003031e-01+0.00000000e+00j  2.56943228e-01+0.00000000e+00j\n",
            "  2.33402041e-01+0.00000000e+00j  2.28020495e-01+0.00000000e+00j\n",
            "  1.65675576e-01+0.00000000e+00j  1.88188991e-01+0.00000000e+00j\n",
            "  1.91589052e-01+0.00000000e+00j  1.99058958e-01+0.00000000e+00j\n",
            "  1.97954828e-01+0.00000000e+00j  1.21919358e-01+0.00000000e+00j\n",
            "  1.08135324e-01+0.00000000e+00j  6.27464939e-02+0.00000000e+00j\n",
            "  7.65523058e-02+0.00000000e+00j  5.51067029e-02+0.00000000e+00j\n",
            "  5.02048488e-02+0.00000000e+00j  1.01056390e-01+0.00000000e+00j\n",
            "  9.78682247e-02+0.00000000e+00j  9.26195047e-02+0.00000000e+00j\n",
            "  9.00209724e-02+0.00000000e+00j  8.55496844e-02+0.00000000e+00j\n",
            "  9.08242102e-02+0.00000000e+00j  1.30314465e-02+0.00000000e+00j\n",
            "  8.88865407e-03+0.00000000e+00j  4.91523037e-03+0.00000000e+00j\n",
            "  1.26508565e-03+0.00000000e+00j  8.89202079e-04+0.00000000e+00j\n",
            "  2.91058616e-04+0.00000000e+00j  3.39005180e-05+0.00000000e+00j\n",
            "  1.47268456e-06+0.00000000e+00j  1.40547507e-11+0.00000000e+00j\n",
            "  7.15197801e-14+1.76624549e-14j  7.15197801e-14-1.76624549e-14j\n",
            "  1.86774000e-14+0.00000000e+00j -1.79317934e-14+0.00000000e+00j\n",
            "  5.72725142e-15+0.00000000e+00j -5.41522281e-15+0.00000000e+00j\n",
            " -1.32157593e-15+0.00000000e+00j -2.67023057e-15+0.00000000e+00j\n",
            "  0.00000000e+00+0.00000000e+00j  0.00000000e+00+0.00000000e+00j\n",
            "  0.00000000e+00+0.00000000e+00j  0.00000000e+00+0.00000000e+00j\n",
            "  0.00000000e+00+0.00000000e+00j  0.00000000e+00+0.00000000e+00j\n",
            "  0.00000000e+00+0.00000000e+00j  0.00000000e+00+0.00000000e+00j\n",
            "  0.00000000e+00+0.00000000e+00j  0.00000000e+00+0.00000000e+00j\n",
            "  0.00000000e+00+0.00000000e+00j  0.00000000e+00+0.00000000e+00j\n",
            "  0.00000000e+00+0.00000000e+00j  0.00000000e+00+0.00000000e+00j\n",
            "  0.00000000e+00+0.00000000e+00j  0.00000000e+00+0.00000000e+00j\n",
            "  0.00000000e+00+0.00000000e+00j  0.00000000e+00+0.00000000e+00j\n",
            "  0.00000000e+00+0.00000000e+00j  0.00000000e+00+0.00000000e+00j\n",
            "  0.00000000e+00+0.00000000e+00j  0.00000000e+00+0.00000000e+00j\n",
            "  0.00000000e+00+0.00000000e+00j  0.00000000e+00+0.00000000e+00j\n",
            "  0.00000000e+00+0.00000000e+00j  0.00000000e+00+0.00000000e+00j\n",
            "  0.00000000e+00+0.00000000e+00j  0.00000000e+00+0.00000000e+00j\n",
            "  0.00000000e+00+0.00000000e+00j  0.00000000e+00+0.00000000e+00j\n",
            "  0.00000000e+00+0.00000000e+00j  0.00000000e+00+0.00000000e+00j\n",
            "  0.00000000e+00+0.00000000e+00j  0.00000000e+00+0.00000000e+00j\n",
            "  0.00000000e+00+0.00000000e+00j  0.00000000e+00+0.00000000e+00j\n",
            "  0.00000000e+00+0.00000000e+00j  0.00000000e+00+0.00000000e+00j\n",
            "  0.00000000e+00+0.00000000e+00j  0.00000000e+00+0.00000000e+00j\n",
            "  0.00000000e+00+0.00000000e+00j  0.00000000e+00+0.00000000e+00j\n",
            "  0.00000000e+00+0.00000000e+00j  0.00000000e+00+0.00000000e+00j\n",
            "  0.00000000e+00+0.00000000e+00j  0.00000000e+00+0.00000000e+00j\n",
            "  0.00000000e+00+0.00000000e+00j  0.00000000e+00+0.00000000e+00j\n",
            "  0.00000000e+00+0.00000000e+00j  0.00000000e+00+0.00000000e+00j\n",
            "  0.00000000e+00+0.00000000e+00j  0.00000000e+00+0.00000000e+00j\n",
            "  0.00000000e+00+0.00000000e+00j  0.00000000e+00+0.00000000e+00j\n",
            "  0.00000000e+00+0.00000000e+00j  0.00000000e+00+0.00000000e+00j\n",
            "  0.00000000e+00+0.00000000e+00j  0.00000000e+00+0.00000000e+00j\n",
            "  0.00000000e+00+0.00000000e+00j  0.00000000e+00+0.00000000e+00j\n",
            "  0.00000000e+00+0.00000000e+00j  0.00000000e+00+0.00000000e+00j\n",
            "  0.00000000e+00+0.00000000e+00j  0.00000000e+00+0.00000000e+00j\n",
            "  0.00000000e+00+0.00000000e+00j  0.00000000e+00+0.00000000e+00j\n",
            "  0.00000000e+00+0.00000000e+00j  0.00000000e+00+0.00000000e+00j\n",
            "  0.00000000e+00+0.00000000e+00j  0.00000000e+00+0.00000000e+00j\n",
            "  0.00000000e+00+0.00000000e+00j  0.00000000e+00+0.00000000e+00j\n",
            "  0.00000000e+00+0.00000000e+00j  0.00000000e+00+0.00000000e+00j\n",
            "  0.00000000e+00+0.00000000e+00j  0.00000000e+00+0.00000000e+00j\n",
            "  0.00000000e+00+0.00000000e+00j  0.00000000e+00+0.00000000e+00j\n",
            "  0.00000000e+00+0.00000000e+00j  0.00000000e+00+0.00000000e+00j\n",
            "  0.00000000e+00+0.00000000e+00j  0.00000000e+00+0.00000000e+00j\n",
            "  0.00000000e+00+0.00000000e+00j  0.00000000e+00+0.00000000e+00j\n",
            "  0.00000000e+00+0.00000000e+00j  0.00000000e+00+0.00000000e+00j\n",
            "  0.00000000e+00+0.00000000e+00j  0.00000000e+00+0.00000000e+00j\n",
            "  0.00000000e+00+0.00000000e+00j  0.00000000e+00+0.00000000e+00j\n",
            "  0.00000000e+00+0.00000000e+00j  0.00000000e+00+0.00000000e+00j\n",
            "  0.00000000e+00+0.00000000e+00j  0.00000000e+00+0.00000000e+00j\n",
            "  0.00000000e+00+0.00000000e+00j  0.00000000e+00+0.00000000e+00j\n",
            "  0.00000000e+00+0.00000000e+00j  0.00000000e+00+0.00000000e+00j\n",
            "  0.00000000e+00+0.00000000e+00j  0.00000000e+00+0.00000000e+00j\n",
            "  0.00000000e+00+0.00000000e+00j  0.00000000e+00+0.00000000e+00j\n",
            "  0.00000000e+00+0.00000000e+00j  0.00000000e+00+0.00000000e+00j\n",
            "  0.00000000e+00+0.00000000e+00j  0.00000000e+00+0.00000000e+00j\n",
            "  0.00000000e+00+0.00000000e+00j  0.00000000e+00+0.00000000e+00j\n",
            "  0.00000000e+00+0.00000000e+00j  0.00000000e+00+0.00000000e+00j\n",
            "  0.00000000e+00+0.00000000e+00j  0.00000000e+00+0.00000000e+00j\n",
            "  0.00000000e+00+0.00000000e+00j  0.00000000e+00+0.00000000e+00j\n",
            "  0.00000000e+00+0.00000000e+00j  0.00000000e+00+0.00000000e+00j\n",
            "  0.00000000e+00+0.00000000e+00j  0.00000000e+00+0.00000000e+00j\n",
            "  0.00000000e+00+0.00000000e+00j  0.00000000e+00+0.00000000e+00j\n",
            "  0.00000000e+00+0.00000000e+00j  0.00000000e+00+0.00000000e+00j\n",
            "  0.00000000e+00+0.00000000e+00j  0.00000000e+00+0.00000000e+00j\n",
            "  0.00000000e+00+0.00000000e+00j  0.00000000e+00+0.00000000e+00j\n",
            "  0.00000000e+00+0.00000000e+00j  0.00000000e+00+0.00000000e+00j\n",
            "  0.00000000e+00+0.00000000e+00j  0.00000000e+00+0.00000000e+00j\n",
            "  0.00000000e+00+0.00000000e+00j  0.00000000e+00+0.00000000e+00j]\n",
            "Variance is >= 0.98 when at least 248 dimensions are used\n"
          ],
          "name": "stdout"
        },
        {
          "output_type": "stream",
          "text": [
            "/usr/local/lib/python3.7/dist-packages/numpy/core/_asarray.py:83: ComplexWarning: Casting complex values to real discards the imaginary part\n",
            "  return array(a, dtype, copy=False, order=order)\n"
          ],
          "name": "stderr"
        },
        {
          "output_type": "display_data",
          "data": {
            "image/png": "[encoded data removed]",
            "text/plain": [
              "<Figure size 432x288 with 1 Axes>"
            ]
          },
          "metadata": {
            "tags": [],
            "needs_background": "light"
          }
        }
      ]
    },
    {
      "cell_type": "markdown",
      "metadata": {
        "id": "txIrVhrtmAsk"
      },
      "source": [
        "# LDA (1.B)"
      ]
    },
    {
      "cell_type": "code",
      "metadata": {
        "colab": {
          "base_uri": "https://localhost:8080/"
        },
        "id": "RDSCGNavoM0t",
        "outputId": "ccdee75c-0dde-489a-c584-15b3e3aa7fa7"
      },
      "source": [
        "#LDA\n",
        "dat = train_data[np.where( (train_label == 4) |(train_label == 7) | (train_label == 8) )]\n",
        "overmean = np.mean(dat, axis=0)\n",
        "Sw = np.zeros((train_data.shape[1],train_data.shape[1]))\n",
        "Sb = np.zeros((train_data.shape[1],train_data.shape[1]))\n",
        "for x in [4,7,8]:\n",
        "  data = train_data[train_label == x ]\n",
        "  mean_vec = np.mean(data, axis=0)\n",
        "  print(np.mean(mean_vec))\n",
        "  Sw += ((data - mean_vec).T.dot((data-mean_vec)))/data.shape[0]\n",
        "  md = (mean_vec - overmean).reshape(data.shape[1],1)\n",
        "  Sb += data.shape[0] * md.dot(md.T)"
      ],
      "execution_count": null,
      "outputs": [
        {
          "output_type": "stream",
          "text": [
            "30.94822568277568\n",
            "29.204562926527355\n",
            "38.289775382892856\n"
          ],
          "name": "stdout"
        }
      ]
    },
    {
      "cell_type": "code",
      "metadata": {
        "id": "_jzpsrnqc92w"
      },
      "source": [
        "#regular inverse would not work because it is a singular matrix\n",
        "Amat = np.linalg.pinv(Sw).dot(Sb)\n",
        "eigval, eigvec = eigh(Amat, eigvals=(782,783))\n",
        "LDA = dat.dot(eigvec)"
      ],
      "execution_count": null,
      "outputs": []
    },
    {
      "cell_type": "markdown",
      "metadata": {
        "id": "amOywLiUmFZz"
      },
      "source": [
        "# TSNE + Graphs (1.C)"
      ]
    },
    {
      "cell_type": "code",
      "metadata": {
        "id": "uM2BsGrKiRIg"
      },
      "source": [
        "#prepping for TSNE graph\n",
        "tsdata = train_data[substdata] - np.mean(train_data[substdata] , axis=0)\n",
        "tslabels = sublabels\n",
        "model = TSNE(n_components=2, random_state=0)\n",
        "tsne_data = model.fit_transform(tsdata)"
      ],
      "execution_count": null,
      "outputs": []
    },
    {
      "cell_type": "code",
      "metadata": {
        "id": "Uo1RWwhkOIgZ"
      },
      "source": [
        "tsne_data = np.vstack((tsne_data.T, tslabels)).T\n",
        "tsne_df = pd.DataFrame(data=tsne_data, columns=('1st_principal', '2nd_principal', 'labels'))\n",
        "sn.FacetGrid(tsne_df, hue='labels', height=6).map(plt.scatter, '1st_principal', '2nd_principal').add_legend()\n",
        "plt.show()"
      ],
      "execution_count": null,
      "outputs": []
    },
    {
      "cell_type": "code",
      "metadata": {
        "id": "F934DthvgnPQ"
      },
      "source": [
        "pcdata = np.vstack((pca.T,sublabels)).T\n",
        "print(pcdata.shape)\n",
        "pca_df = pd.DataFrame(data=pcdata,columns=('1st_principal','2nd_principal','labels'))\n",
        "sn.FacetGrid(pca_df,hue='labels',height=6).map(plt.scatter,'1st_principal','2nd_principal').add_legend()\n",
        "plt.show()"
      ],
      "execution_count": null,
      "outputs": []
    },
    {
      "cell_type": "code",
      "metadata": {
        "id": "n72hlwMaod7B"
      },
      "source": [
        "lddata = np.vstack((LDA.T,sublabels)).T\n",
        "print(lddata.shape)\n",
        "lda_df = pd.DataFrame(data=lddata,columns=('1st_principal','2nd_principal','labels'))\n",
        "sn.FacetGrid(lda_df,hue='labels',height=6).map(plt.scatter,'1st_principal','2nd_principal').add_legend()\n",
        "plt.show()"
      ],
      "execution_count": null,
      "outputs": []
    },
    {
      "cell_type": "markdown",
      "metadata": {
        "id": "3M_leGRmJFwe"
      },
      "source": [
        "# 2.B Gradients"
      ]
    },
    {
      "cell_type": "markdown",
      "metadata": {
        "id": "UkhIHaJ2JV-b"
      },
      "source": [
        "# Loading data"
      ]
    },
    {
      "cell_type": "code",
      "metadata": {
        "colab": {
          "base_uri": "https://localhost:8080/"
        },
        "id": "Yh10F9Z6JJ04",
        "outputId": "bac20b38-9c7e-41a0-d1d3-3ef543f8bbd8"
      },
      "source": [
        "from sklearn.datasets import load_boston\n",
        "from sklearn.model_selection import train_test_split\n",
        "X, y = load_boston(return_X_y=True)\n",
        "x_train,x_test,y_train,y_test = train_test_split(X,y,test_size=0.14)\n",
        "print(x_train.shape)\n",
        "print(x_test.shape)\n",
        "bweights = np.random.rand(x_test.shape[1])"
      ],
      "execution_count": null,
      "outputs": [
        {
          "output_type": "stream",
          "text": [
            "(435, 13)\n",
            "(71, 13)\n"
          ],
          "name": "stdout"
        }
      ]
    },
    {
      "cell_type": "markdown",
      "metadata": {
        "id": "uKPVIijbJYMz"
      },
      "source": [
        "# Linear Regression"
      ]
    },
    {
      "cell_type": "code",
      "metadata": {
        "id": "h2HVRGYqVYJL"
      },
      "source": [
        "#w for linear regression\n",
        "#lweights = np.random.rand(x_test.shape[1])\n",
        "lweights = bweights\n",
        "i=0\n",
        "errlist = [1e10]\n",
        "cont = True\n",
        "while cont:\n",
        "  rate = 0.00001\n",
        "  #randomizing batches\n",
        "  randord = np.random.choice(x_train.shape[0], x_train.shape[0], replace=False)\n",
        "  randx = x_train[randord]\n",
        "  randy = y_train[randord]\n",
        "  #batch size of 29 and 15 batches\n",
        "  #stored as [[x1,y1],[x2,y2]...]\n",
        "  for xbatch,ybatch in [(randx[i:i+29], randy[i:i+29]) for i in range(0,x_train.shape[0],29)]:\n",
        "    if cont:\n",
        "      err = xbatch.dot(lweights)-ybatch\n",
        "      errlist.append( np.mean(err**2) )\n",
        "      grad = xbatch.T.dot(err)\n",
        "      lweights -= (rate/x_test.shape[0])*(grad)\n",
        "      rate /= 1.1\n",
        "    if abs(errlist[-2]-errlist[-1]) < 1e-4:\n",
        "       cont = False\n",
        "  i+=1\n",
        "#print(i)"
      ],
      "execution_count": null,
      "outputs": []
    },
    {
      "cell_type": "code",
      "metadata": {
        "colab": {
          "base_uri": "https://localhost:8080/"
        },
        "id": "vlaNnl60fDS9",
        "outputId": "f355c5e8-8c5a-41c8-dbee-f54d8dc3f670"
      },
      "source": [
        "lpred = lweights.dot(x_test.T)\n",
        "plt.scatter(lpred, y_test)\n",
        "plt.show()\n",
        "mse = np.mean((lpred**2))\n",
        "rmse = np.sqrt(mse)\n",
        "print(\"MSE:= \" + str(mse))\n",
        "print(\"RMSE:= \" + str(rmse))\n",
        "print(lweights)\n",
        "print(np.mean(y_test))\n",
        "print(np.mean(lpred))"
      ],
      "execution_count": null,
      "outputs": [
        {
          "output_type": "display_data",
          "data": {
            "image/png": "[encoded data removed]",
            "text/plain": [
              "<Figure size 432x288 with 1 Axes>"
            ]
          },
          "metadata": {
            "tags": [],
            "needs_background": "light"
          }
        },
        {
          "output_type": "stream",
          "text": [
            "MSE:= 457.8903748009777\n",
            "RMSE:= 21.398373181178464\n",
            "[-0.07161467  0.07586875  0.04194665  0.34394     0.11971476  1.90632125\n",
            "  0.10433308  0.43592028  0.14332644 -0.00929572  0.20442346  0.02117512\n",
            " -0.77158167]\n",
            "20.640845070422543\n",
            "20.123375274978834\n"
          ],
          "name": "stdout"
        }
      ]
    },
    {
      "cell_type": "markdown",
      "metadata": {
        "id": "9D3t-OuSJaRQ"
      },
      "source": [
        "# Ridge Regression"
      ]
    },
    {
      "cell_type": "code",
      "metadata": {
        "colab": {
          "base_uri": "https://localhost:8080/"
        },
        "id": "hpEorhcNJcM0",
        "outputId": "7da5d1a1-884e-4bd6-9035-8cde12cec57e"
      },
      "source": [
        "#w for linear regression\n",
        "#rweights = np.random.rand(x_test.shape[1])\n",
        "rweights = bweights\n",
        "i=0\n",
        "errlist = [1e10]\n",
        "cont = True\n",
        "#idmat = np.ones(x_test.shape[1])\n",
        "lambdashift = 0.8\n",
        "while cont:\n",
        "  rate = 0.00001\n",
        "  #randomizing batches\n",
        "  randord = np.random.choice(x_train.shape[0], x_train.shape[0], replace=False)\n",
        "  randx = x_train[randord]\n",
        "  randy = y_train[randord]\n",
        "  #batch size of 29 and 15 batches\n",
        "  #stored as [[x1,y1],[x2,y2]...]\n",
        "  for xbatch,ybatch in [(randx[i:i+29], randy[i:i+29]) for i in range(0,x_train.shape[0],29)]:\n",
        "    if cont:\n",
        "      err = xbatch.dot(rweights)-ybatch\n",
        "      errlist.append( np.mean(err**2) )\n",
        "      grad = xbatch.T.dot(err) + lambdashift*rweights \n",
        "      rweights -= (rate/x_test.shape[0])*(grad)\n",
        "      rate /= 1.1\n",
        "      #print(errlist[-2]-errlist[-1])\n",
        "    if abs(errlist[-2]-errlist[-1]) < 1e-4:\n",
        "       cont = False\n",
        "  i+=1\n",
        "print(i)"
      ],
      "execution_count": null,
      "outputs": [
        {
          "output_type": "stream",
          "text": [
            "6196\n"
          ],
          "name": "stdout"
        }
      ]
    },
    {
      "cell_type": "code",
      "metadata": {
        "colab": {
          "base_uri": "https://localhost:8080/"
        },
        "id": "GTNhnfTu8kuj",
        "outputId": "83724323-5f49-4630-dc85-26e1f8685294"
      },
      "source": [
        "#print(i)\n",
        "rpred = rweights.dot(x_test.T)\n",
        "plt.scatter(rpred, y_test)\n",
        "plt.show()\n",
        "mse = np.sum((rpred**2))\n",
        "rmse = np.sqrt(mse/y_test.shape[0])\n",
        "print(\"MSE:= \" + str(mse))\n",
        "print(\"RMSE:= \" + str(rmse))\n",
        "print(rweights)\n",
        "print(np.mean(y_test))\n",
        "print(np.mean(rpred))\n",
        "#print(pred)\n",
        "#print(y_test)"
      ],
      "execution_count": null,
      "outputs": [
        {
          "output_type": "display_data",
          "data": {
            "image/png": "[encoded data removed]",
            "text/plain": [
              "<Figure size 432x288 with 1 Axes>"
            ]
          },
          "metadata": {
            "tags": [],
            "needs_background": "light"
          }
        },
        {
          "output_type": "stream",
          "text": [
            "MSE:= 38435.26276995863\n",
            "RMSE:= 23.266751581480964\n",
            "[-0.07373198  0.0758086   0.04062379  0.38235303  0.14307347  2.44732979\n",
            "  0.08788587  0.17545989  0.14479614 -0.00606773  0.17719083  0.02010423\n",
            " -0.73417154]\n",
            "20.640845070422543\n",
            "22.252400947114708\n"
          ],
          "name": "stdout"
        }
      ]
    },
    {
      "cell_type": "markdown",
      "metadata": {
        "id": "FnR7GS7QJciS"
      },
      "source": [
        "# LASSO"
      ]
    },
    {
      "cell_type": "code",
      "metadata": {
        "colab": {
          "base_uri": "https://localhost:8080/"
        },
        "id": "KMHmPwyHJdsG",
        "outputId": "30744613-e302-49b8-c0c4-d5264bc83201"
      },
      "source": [
        "#w for linear regression\n",
        "#laweights = np.random.rand(x_test.shape[1])\n",
        "laweights = bweights\n",
        "i=0\n",
        "errlist = [1e10]\n",
        "cont = True\n",
        "#idmat = np.ones(x_test.shape[1])\n",
        "lambdashift = 0.8\n",
        "while cont:\n",
        "  rate = 0.00001\n",
        "  #randomizing batches\n",
        "  randord = np.random.choice(x_train.shape[0], x_train.shape[0], replace=False)\n",
        "  randx = x_train[randord]\n",
        "  randy = y_train[randord]\n",
        "  #batch size of 29 and 15 batches\n",
        "  #stored as [[x1,y1],[x2,y2]...]\n",
        "  for xbatch,ybatch in [(randx[i:i+29], randy[i:i+29]) for i in range(0,x_train.shape[0],29)]:\n",
        "    if cont:\n",
        "      err = xbatch.dot(laweights)-ybatch\n",
        "      errlist.append( np.mean(err**2) )\n",
        "      grad = xbatch.T.dot(err) + lambdashift*np.sum(laweights) \n",
        "      laweights -= (rate/x_test.shape[0])*(grad)\n",
        "      rate /= 1.1\n",
        "      #print(errlist[-2]-errlist[-1])\n",
        "    if abs(errlist[-2]-errlist[-1]) < 1e-4:\n",
        "       cont = False\n",
        "  i+=1\n",
        "print(i)"
      ],
      "execution_count": null,
      "outputs": [
        {
          "output_type": "stream",
          "text": [
            "6899\n"
          ],
          "name": "stdout"
        }
      ]
    },
    {
      "cell_type": "code",
      "metadata": {
        "colab": {
          "base_uri": "https://localhost:8080/"
        },
        "id": "_7u54TjP8lTW",
        "outputId": "c6ea92c1-4eea-4034-b2af-b8fd394ea4b7"
      },
      "source": [
        "lapred = laweights.dot(x_test.T)\n",
        "plt.scatter(lapred, y_test)\n",
        "plt.show()\n",
        "mse = np.mean(np.abs(lapred)**2)\n",
        "rmse = np.sqrt(mse)\n",
        "print(\"MSE:= \" + str(mse))\n",
        "print(\"RMSE:= \" + str(rmse))\n",
        "print(laweights)\n",
        "print(np.mean(y_test))\n",
        "print(np.mean(lapred))"
      ],
      "execution_count": null,
      "outputs": [
        {
          "output_type": "display_data",
          "data": {
            "image/png": "[encoded data removed]",
            "text/plain": [
              "<Figure size 432x288 with 1 Axes>"
            ]
          },
          "metadata": {
            "tags": [],
            "needs_background": "light"
          }
        },
        {
          "output_type": "stream",
          "text": [
            "MSE:= 491.88695980525046\n",
            "RMSE:= 22.178524743662514\n",
            "[-0.07787343  0.07604301  0.02224436  0.40508172  0.14625413  2.95390434\n",
            "  0.07160024 -0.07526136  0.13845877 -0.00954736  0.11519373  0.02019319\n",
            " -0.69360567]\n",
            "20.640845070422543\n",
            "20.96668368972393\n"
          ],
          "name": "stdout"
        }
      ]
    },
    {
      "cell_type": "markdown",
      "metadata": {
        "id": "j6OXYAOk8GdX"
      },
      "source": [
        "# Regression Comparisons"
      ]
    },
    {
      "cell_type": "code",
      "metadata": {
        "colab": {
          "base_uri": "https://localhost:8080/",
          "height": 1000
        },
        "id": "AL6xLHjq7w0L",
        "outputId": "3b6c5ab2-caca-4583-a2df-5a37a2c8b5a8"
      },
      "source": [
        "print(\"Linear regression: \")\n",
        "mse = np.mean(np.abs(lpred)**2)\n",
        "rmse = np.sqrt(mse)\n",
        "print(\"MSE:= \" + str(mse))\n",
        "print(\"RMSE:= \" + str(rmse))\n",
        "print(\"Actual y median:= \" + str(np.median(y_test)))\n",
        "print(\"Predicted y median:= \" + str(np.median(lpred)))\n",
        "print(lweights)\n",
        "plt.scatter(lpred, y_test)\n",
        "plt.show()\n",
        "print(\"\\n\\nRidge regression: \")\n",
        "mse = np.mean(np.abs(rpred)**2)\n",
        "rmse = np.sqrt(mse)\n",
        "print(\"MSE:= \" + str(mse))\n",
        "print(\"RMSE:= \" + str(rmse))\n",
        "print(\"Actual y median:= \" + str(np.median(y_test)))\n",
        "print(\"Predicted y median:= \" + str(np.median(rpred)))\n",
        "print(rweights)\n",
        "plt.scatter(rpred, y_test)\n",
        "plt.show()\n",
        "print(\"\\n\\nLASSO: \")\n",
        "mse = np.mean(np.abs(lapred)**2)\n",
        "rmse = np.sqrt(mse)\n",
        "print(\"MSE:= \" + str(mse))\n",
        "print(\"RMSE:= \" + str(rmse))\n",
        "print(\"Actual y median:= \" + str(np.median(y_test)))\n",
        "print(\"Predicted y median:= \" + str(np.median(lapred)))\n",
        "print(laweights)\n",
        "plt.scatter(lapred, y_test)\n",
        "plt.show()"
      ],
      "execution_count": null,
      "outputs": [
        {
          "output_type": "stream",
          "text": [
            "Linear regression: \n",
            "MSE:= 457.8903748009777\n",
            "RMSE:= 21.398373181178464\n",
            "Actual y median:= 20.4\n",
            "Predicted y median:= 20.183059758007175\n",
            "[-0.07787343  0.07604301  0.02224436  0.40508172  0.14625413  2.95390434\n",
            "  0.07160024 -0.07526136  0.13845877 -0.00954736  0.11519373  0.02019319\n",
            " -0.69360567]\n"
          ],
          "name": "stdout"
        },
        {
          "output_type": "display_data",
          "data": {
            "image/png": "[encoded data removed]",
            "text/plain": [
              "<Figure size 432x288 with 1 Axes>"
            ]
          },
          "metadata": {
            "tags": [],
            "needs_background": "light"
          }
        },
        {
          "output_type": "stream",
          "text": [
            "\n",
            "\n",
            "Ridge regression: \n",
            "MSE:= 541.3417291543469\n",
            "RMSE:= 23.266751581480964\n",
            "Actual y median:= 20.4\n",
            "Predicted y median:= 21.81436713450745\n",
            "[-0.07787343  0.07604301  0.02224436  0.40508172  0.14625413  2.95390434\n",
            "  0.07160024 -0.07526136  0.13845877 -0.00954736  0.11519373  0.02019319\n",
            " -0.69360567]\n"
          ],
          "name": "stdout"
        },
        {
          "output_type": "display_data",
          "data": {
            "image/png": "[encoded data removed]",
            "text/plain": [
              "<Figure size 432x288 with 1 Axes>"
            ]
          },
          "metadata": {
            "tags": [],
            "needs_background": "light"
          }
        },
        {
          "output_type": "stream",
          "text": [
            "\n",
            "\n",
            "LASSO: \n",
            "MSE:= 491.88695980525046\n",
            "RMSE:= 22.178524743662514\n",
            "Actual y median:= 20.4\n",
            "Predicted y median:= 21.01886366627774\n",
            "[-0.07787343  0.07604301  0.02224436  0.40508172  0.14625413  2.95390434\n",
            "  0.07160024 -0.07526136  0.13845877 -0.00954736  0.11519373  0.02019319\n",
            " -0.69360567]\n"
          ],
          "name": "stdout"
        },
        {
          "output_type": "display_data",
          "data": {
            "image/png": "[encoded data removed]",
            "text/plain": [
              "<Figure size 432x288 with 1 Axes>"
            ]
          },
          "metadata": {
            "tags": [],
            "needs_background": "light"
          }
        }
      ]
    }
  ]
}