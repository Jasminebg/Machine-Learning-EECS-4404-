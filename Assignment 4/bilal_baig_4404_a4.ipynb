{
  "nbformat": 4,
  "nbformat_minor": 0,
  "metadata": {
    "colab": {
      "name": "4404 a4.ipynb",
      "provenance": [],
      "collapsed_sections": [
        "rX75nZ43ly3x",
        "QyzmzAqpTHZl",
        "SD55Zaf3uRbo"
      ],
      "toc_visible": true
    },
    "kernelspec": {
      "display_name": "Python 3",
      "name": "python3"
    }
  },
  "cells": [
    {
      "cell_type": "markdown",
      "metadata": {
        "id": "rX75nZ43ly3x"
      },
      "source": [
        "# Imports "
      ]
    },
    {
      "cell_type": "code",
      "metadata": {
        "colab": {
          "base_uri": "https://localhost:8080/"
        },
        "id": "V3th2njbF4h4",
        "outputId": "55e741d2-4423-426a-b14d-54c61d5ea471"
      },
      "source": [
        "!pip install idx2numpy\n",
        "!pip install python_mnist\n",
        "import numpy as np\n",
        "import pandas as pd\n",
        "import matplotlib.pyplot as plt\n",
        "from google.colab import files\n",
        "from google.colab import drive\n",
        "drive.mount('/content/drive')"
      ],
      "execution_count": 2,
      "outputs": [
        {
          "output_type": "stream",
          "text": [
            "Collecting idx2numpy\n",
            "  Downloading https://files.pythonhosted.org/packages/7e/6b/80628f6cc2f44d80b27f1ef7b57b257ed4c73766113b77d13ad110c091b4/idx2numpy-1.2.3.tar.gz\n",
            "Requirement already satisfied: numpy in /usr/local/lib/python3.7/dist-packages (from idx2numpy) (1.19.5)\n",
            "Requirement already satisfied: six in /usr/local/lib/python3.7/dist-packages (from idx2numpy) (1.15.0)\n",
            "Building wheels for collected packages: idx2numpy\n",
            "  Building wheel for idx2numpy (setup.py) ... \u001b[?25l\u001b[?25hdone\n",
            "  Created wheel for idx2numpy: filename=idx2numpy-1.2.3-cp37-none-any.whl size=7907 sha256=3e196d217dcba7e7c83cd942bc44cce217b0c98741386e8e7bae520a8d5390c7\n",
            "  Stored in directory: /root/.cache/pip/wheels/7a/c1/da/284ce80a748fab898b8d1fa95468a386e7cf3b81da18511f9d\n",
            "Successfully built idx2numpy\n",
            "Installing collected packages: idx2numpy\n",
            "Successfully installed idx2numpy-1.2.3\n",
            "Collecting python_mnist\n",
            "  Downloading https://files.pythonhosted.org/packages/64/f0/6086b84427c3bf156ec0b3c2f9dfc1d770b35f942b9ed8a64f5229776a80/python_mnist-0.7-py2.py3-none-any.whl\n",
            "Installing collected packages: python-mnist\n",
            "Successfully installed python-mnist-0.7\n",
            "Mounted at /content/drive\n"
          ],
          "name": "stdout"
        }
      ]
    },
    {
      "cell_type": "markdown",
      "metadata": {
        "id": "QyzmzAqpTHZl"
      },
      "source": [
        "#Setup"
      ]
    },
    {
      "cell_type": "code",
      "metadata": {
        "colab": {
          "base_uri": "https://localhost:8080/"
        },
        "id": "EJ8Ym7kdycFI",
        "outputId": "66905331-60e3-4367-f170-f92f7ad647ec"
      },
      "source": [
        "train_data = pd.read_csv(\"/content/drive/My Drive/Colab Notebooks/datasets/train-gaussian.csv\")\n",
        "test_data = pd.read_csv(\"/content/drive/My Drive/Colab Notebooks/datasets/test-gaussian.csv\")\n",
        "print(train_data.shape)\n",
        "print(test_data.shape)"
      ],
      "execution_count": 3,
      "outputs": [
        {
          "output_type": "stream",
          "text": [
            "(1891, 4)\n",
            "(830, 4)\n"
          ],
          "name": "stdout"
        }
      ]
    },
    {
      "cell_type": "code",
      "metadata": {
        "id": "3x6JM2yWJgR7"
      },
      "source": [
        "x_train = train_data[[' x1',' x2',' x3']].values\n",
        "y_train = train_data['class'].values\n",
        "x_test = test_data[['x1','x2','x3']].values\n",
        "y_test = test_data['class'].values\n",
        "classes = ['A','B']"
      ],
      "execution_count": 4,
      "outputs": []
    },
    {
      "cell_type": "code",
      "metadata": {
        "colab": {
          "base_uri": "https://localhost:8080/"
        },
        "id": "uZlIYNub64ka",
        "outputId": "f627be84-61d2-4387-8c9b-902fc7bd13bf"
      },
      "source": [
        "print(np.mean(x_train[y_train=='A'],axis=0))\n",
        "print(len(x_train[y_train=='A']))\n",
        "print(np.mean(x_train[y_train=='B'],axis=0))\n",
        "print(len(x_train[y_train=='B']))"
      ],
      "execution_count": 5,
      "outputs": [
        {
          "output_type": "stream",
          "text": [
            "[-10.56044211  -3.63296938  -8.32880383]\n",
            "1045\n",
            "[-13.52702955  -4.41293026  -4.52632388]\n",
            "846\n"
          ],
          "name": "stdout"
        }
      ]
    },
    {
      "cell_type": "markdown",
      "metadata": {
        "id": "SD55Zaf3uRbo"
      },
      "source": [
        "# Question 3.1"
      ]
    },
    {
      "cell_type": "code",
      "metadata": {
        "colab": {
          "base_uri": "https://localhost:8080/"
        },
        "id": "4WP4XYQVBYEa",
        "outputId": "3fca55b8-b315-4151-8f9e-5856902328e4"
      },
      "source": [
        "classmeans = []\n",
        "cov = np.cov(x_train.T)\n",
        "diagcov = np.diagflat(np.diag(cov))\n",
        "currclass = 0\n",
        "for c in classes:\n",
        "  mean = np.mean(x_train[y_train==c],axis=0)\n",
        "  classmeans.append(mean)\n",
        "acc = 0\n",
        "diagacc=0\n",
        "for x in range(len(x_test)):\n",
        "  A = np.exp( -((x_test[x]-classmeans[0]).dot( np.linalg.inv(cov))).dot((x_test[x]-classmeans[0])) /2)/ ((2*np.pi )**(3/2))*(np.sqrt(np.linalg.det(cov)))\n",
        "  B = np.exp( -((x_test[x]-classmeans[1]).dot( np.linalg.inv(cov))).dot((x_test[x]-classmeans[1])) /2)/ ((2*np.pi )**(3/2))*(np.sqrt(np.linalg.det(cov)))\n",
        "  if classes[np.argmax((A,B))] == y_test[x]:\n",
        "    acc +=1\n",
        "  diagA = np.exp( -((x_test[x]-classmeans[0]).dot( np.linalg.inv(diagcov))).dot((x_test[x]-classmeans[0])) /2)/ ((2*np.pi )**(3/2))*(np.sqrt(np.linalg.det(diagcov)))\n",
        "  diagB = np.exp( -((x_test[x]-classmeans[1]).dot( np.linalg.inv(diagcov))).dot((x_test[x]-classmeans[1])) /2)/ ((2*np.pi )**(3/2))*(np.sqrt(np.linalg.det(diagcov)))\n",
        "  if classes[np.argmax((diagA,diagB))] == y_test[x]:\n",
        "    diagacc +=1\n",
        "print(\"Full covariance accuracy: {:.5f}%\".format(acc/x_test.shape[0]*100))\n",
        "print(\"Diagonal covariance accuracy: {:.5f}%\".format(diagacc/x_test.shape[0]*100))"
      ],
      "execution_count": 93,
      "outputs": [
        {
          "output_type": "stream",
          "text": [
            "Full covariance accuracy: 73.37349%\n",
            "Diagonal covariance accuracy: 74.09639%\n"
          ],
          "name": "stdout"
        }
      ]
    },
    {
      "cell_type": "markdown",
      "metadata": {
        "id": "17PezG-Juace"
      },
      "source": [
        "# Question 3.2"
      ]
    },
    {
      "cell_type": "code",
      "metadata": {
        "colab": {
          "base_uri": "https://localhost:8080/"
        },
        "id": "EY7b-a1arlbb",
        "outputId": "d2a711e8-76fc-418d-8fd8-f7c6d0adca78"
      },
      "source": [
        "#K means clustering method to initialize\n",
        "m= 8\n",
        "traindata = ( [ (t[0],t[1:]) for t in train_data.values])\n",
        "x_data =  [ t[1:] for t in train_data.values]\n",
        "k=0\n",
        "clusters = []\n",
        "clusters.append([None] for i in range(m-1))\n",
        "centroids = [np.mean([t[1] for t in traindata],axis=0),(0 for i in range(m-1))]\n",
        "while k < m:\n",
        "  continu = True\n",
        "  while continu:\n",
        "    centroidcopy = [0 for i in range(m)]\n",
        "    clust = [[] for i in range(m)]\n",
        "    for xy in traindata:\n",
        "      x = xy[1]\n",
        "      meandiff = [  np.linalg.norm(x-centroids[i]) for i in range(k+1) ]\n",
        "      closest = np.argmin(meandiff)\n",
        "      clust[closest].append(xy)\n",
        "    for i in range(k+1):\n",
        "      centroidcopy[i] = (np.mean([t[1] for t in clust[i]],axis=0))\n",
        "    continu = False\n",
        "    for i in range(k):\n",
        "      continu = True if (centroids[i] != centroidcopy[i]).any() else False\n",
        "    centroids = centroidcopy\n",
        "    clusters=clust\n",
        "  if k+1 < m:\n",
        "    splitpos = np.argmax([ len(t) for t in clusters])\n",
        "    secondhalf = clusters[splitpos][int(np.round(len(clusters[splitpos])/2)):]\n",
        "    clusters[splitpos] = clusters[splitpos][:int(np.round(len(clusters[splitpos])/2))]\n",
        "    centroids[splitpos] = (np.mean([t[1] for t in clusters[splitpos]]))\n",
        "    clusters[k+1] = secondhalf\n",
        "    centroids[k+1] = (np.mean([t[1] for t in clusters[k+1]]))\n",
        "  print(k)\n",
        "  k+=1\n",
        "\n",
        "weights = []\n",
        "means = []\n",
        "covariances = []\n",
        "for cluster in clusters:\n",
        "  weights.append((len(cluster)/len(traindata)))\n",
        "  means.append(np.mean(np.asarray(([t[1] for t in cluster])).astype(\"float\"),axis=0).reshape(1,3))\n",
        "  cov = np.asarray([t[1] for t in cluster]).astype(\"float\")\n",
        "  covariances.append(np.cov(cov.T))\n",
        "weights = np.asarray( weights)\n",
        "means = np.asarray(means)"
      ],
      "execution_count": 112,
      "outputs": [
        {
          "output_type": "stream",
          "text": [
            "0\n",
            "1\n",
            "2\n",
            "3\n",
            "4\n",
            "5\n",
            "6\n",
            "7\n"
          ],
          "name": "stdout"
        }
      ]
    },
    {
      "cell_type": "code",
      "metadata": {
        "id": "Dx7CbA_W-Vq0"
      },
      "source": [
        "#for using diagonal covariances\n",
        "covariances = [np.diagflat(np.diag(cov)) for cov in covariances]"
      ],
      "execution_count": 108,
      "outputs": []
    },
    {
      "cell_type": "code",
      "metadata": {
        "colab": {
          "base_uri": "https://localhost:8080/"
        },
        "id": "jR3lAZaMlG3b",
        "outputId": "727183d5-4c24-4b94-80d9-762409dbfdc5"
      },
      "source": [
        "#EM GMM\n",
        "Em = [[] for i in range(m)]\n",
        "cont = True\n",
        "l = 0\n",
        "llikelihood = [1e10]\n",
        "while cont:\n",
        "  tmpweights = np.ones(weights.shape)\n",
        "  for x in train_data.values:\n",
        "    x=x[1:]\n",
        "    gauss = [(np.exp( (-((x-means[a]).dot( np.linalg.inv(covariances[a]))).dot((x-means[a]).T) /2).astype(\"float\"))\\\n",
        "    / ((2*np.pi )**(3/2))*(np.sqrt(np.abs(np.linalg.det(covariances[a]))))) for a in range(m)]\n",
        "    for i in range(m):\n",
        "      Em[i].append((weights[i] * (gauss[i] ) ) / (np.sum(weights*gauss) ))\n",
        "  for i in range(m):\n",
        "    means[i] = np.sum([Em[i][j]*x_data[j] for j in range(len(x_data))] )/np.sum(Em[i])\n",
        "    covariances[i] = np.sum([ (Em[i][j])* (x_data[j]-means[i]).T*(x_data[j]-means[i]) for j in range(len(x_data))  ],axis=0).astype(\"float\") /np.sum(Em[i])\n",
        "    tmpweights[i] = np.sum(Em[i])/len(x_data)\n",
        "  if (weights == tmpweights).all():\n",
        "    cont = False\n",
        "  weights = tmpweights\n",
        "  l+=1\n",
        "  ll = 0\n",
        "  for E in Em:\n",
        "    ll +=  np.abs(np.mean(np.log([E[i] for i in range(len(E))])))\n",
        "  llikelihood.append(ll)\n",
        "  print(l, ll)\n",
        "  if (llikelihood[-2] - llikelihood[-1]) < 1e-1:\n",
        "    cont = False"
      ],
      "execution_count": 114,
      "outputs": [
        {
          "output_type": "stream",
          "text": [
            "1 125.90288797986582\n",
            "2 103.7067559492977\n",
            "3 110.30924873028864\n"
          ],
          "name": "stdout"
        }
      ]
    },
    {
      "cell_type": "code",
      "metadata": {
        "colab": {
          "base_uri": "https://localhost:8080/"
        },
        "id": "6Ln_4LAJziT2",
        "outputId": "6583dd1a-aa32-47f7-f59c-1a9bdfa23f9e"
      },
      "source": [
        "print(weights)\n",
        "print(means)\n",
        "print(covariances)\n",
        "#### Found that 8 clusters and diagonal covariances were the best setup"
      ],
      "execution_count": 115,
      "outputs": [
        {
          "output_type": "stream",
          "text": [
            "[0.01848618 0.12238092 0.00485716 0.02983446 0.03308228 0.05004944\n",
            " 0.08595628 0.05480024]\n",
            "[[[-16.54055392 -16.54055392 -16.54055392]]\n",
            "\n",
            " [[ -2.7592147   -2.7592147   -2.7592147 ]]\n",
            "\n",
            " [[-14.49184863 -14.49184863 -14.49184863]]\n",
            "\n",
            " [[ -9.84079784  -9.84079784  -9.84079784]]\n",
            "\n",
            " [[-12.33102346 -12.33102346 -12.33102346]]\n",
            "\n",
            " [[ -4.94369843  -4.94369843  -4.94369843]]\n",
            "\n",
            " [[ -7.84748333  -7.84748333  -7.84748333]]\n",
            "\n",
            " [[ -8.33001902  -8.33001902  -8.33001902]]]\n",
            "[array([[27.75924733, 14.42248453, -5.80758392],\n",
            "       [14.42248453, 14.6355803 , -3.58561532],\n",
            "       [-5.80758392, -3.58561532,  5.92572906]]), array([[ 29.93713933,  -4.98540276, -10.00074506],\n",
            "       [ -4.98540276,   2.36950921,   1.802319  ],\n",
            "       [-10.00074506,   1.802319  ,   4.57146344]]), array([[  6.25501235,  23.99660001,  -4.0023933 ],\n",
            "       [ 23.99660001, 141.23477599, -30.60084269],\n",
            "       [ -4.0023933 , -30.60084269,  11.87772482]]), array([[ 4.09659094,  7.68626254, -0.44175709],\n",
            "       [ 7.68626254, 27.5610144 , -1.35399168],\n",
            "       [-0.44175709, -1.35399168,  3.2489198 ]]), array([[ 3.77764618, -1.62272814,  1.38947482],\n",
            "       [-1.62272814,  5.45375612, -1.8142642 ],\n",
            "       [ 1.38947482, -1.8142642 ,  6.71875703]]), array([[ 33.22855848, -15.30344949,   1.99017873],\n",
            "       [-15.30344949,   9.70806518,  -0.26095083],\n",
            "       [  1.99017873,  -0.26095083,   2.03300644]]), array([[ 4.76734991, -8.60025119, -7.36854544],\n",
            "       [-8.60025119, 21.6045452 , 16.56345318],\n",
            "       [-7.36854544, 16.56345318, 15.05417427]]), array([[ 5.39488744, -4.5934775 , -4.43586857],\n",
            "       [-4.5934775 ,  7.30959102,  5.02581985],\n",
            "       [-4.43586857,  5.02581985,  8.6597567 ]])]\n"
          ],
          "name": "stdout"
        }
      ]
    }
  ]
}